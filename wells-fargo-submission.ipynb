{
 "cells": [
  {
   "cell_type": "markdown",
   "metadata": {},
   "source": [
    "# Importing the necessary libraries"
   ]
  },
  {
   "cell_type": "code",
   "execution_count": 69,
   "metadata": {},
   "outputs": [],
   "source": [
    "import pandas as pd\n",
    "import numpy as np\n",
    "import os\n",
    "import glob\n",
    "import matplotlib.pyplot as plt\n",
    "import seaborn as sns\n",
    "from sklearn.metrics import explained_variance_score\n",
    "from sklearn.ensemble import RandomForestRegressor\n",
    "import xgboost\n",
    "from sklearn.linear_model import LinearRegression\n",
    "from sklearn.metrics import mean_squared_error\n",
    "import math\n",
    "from sklearn.model_selection import train_test_split\n",
    "from sklearn.neighbors import KNeighborsClassifier\n",
    "from sklearn.metrics import classification_report, confusion_matrix, accuracy_score\n",
    "import xgboost as xgb\n",
    "from sklearn.tree import DecisionTreeClassifier\n",
    "from sklearn.metrics import classification_report, confusion_matrix\n",
    "from sklearn.ensemble import BaggingClassifier\n",
    "from sklearn.metrics import accuracy_score\n",
    "from sklearn.ensemble import RandomForestClassifier,AdaBoostClassifier,GradientBoostingClassifier\n",
    "from sklearn.decomposition import PCA\n",
    "%matplotlib inline"
   ]
  },
  {
   "cell_type": "markdown",
   "metadata": {},
   "source": [
    "# Reading the CSV files"
   ]
  },
  {
   "cell_type": "code",
   "execution_count": 70,
   "metadata": {},
   "outputs": [],
   "source": [
    "sample = pd.read_csv('wells_fargo_sample_submission.csv')\n",
    "test = pd.read_csv('wells_fargo_test.csv')\n",
    "train = pd.read_csv('wells_fargo_train.csv')"
   ]
  },
  {
   "cell_type": "markdown",
   "metadata": {},
   "source": [
    "# Viewing the train dataset"
   ]
  },
  {
   "cell_type": "code",
   "execution_count": 71,
   "metadata": {},
   "outputs": [
    {
     "data": {
      "text/html": [
       "<div>\n",
       "<style scoped>\n",
       "    .dataframe tbody tr th:only-of-type {\n",
       "        vertical-align: middle;\n",
       "    }\n",
       "\n",
       "    .dataframe tbody tr th {\n",
       "        vertical-align: top;\n",
       "    }\n",
       "\n",
       "    .dataframe thead th {\n",
       "        text-align: right;\n",
       "    }\n",
       "</style>\n",
       "<table border=\"1\" class=\"dataframe\">\n",
       "  <thead>\n",
       "    <tr style=\"text-align: right;\">\n",
       "      <th></th>\n",
       "      <th>Id</th>\n",
       "      <th>Fiscal Year</th>\n",
       "      <th>Term Type</th>\n",
       "      <th>Career</th>\n",
       "      <th>Program Level</th>\n",
       "      <th>Study Year</th>\n",
       "      <th>Campus_Id</th>\n",
       "      <th>Faculty Group</th>\n",
       "      <th>Program Grouping</th>\n",
       "      <th>Coop Regular</th>\n",
       "      <th>WorkTerm</th>\n",
       "      <th>Attendance</th>\n",
       "      <th>Visa Status</th>\n",
       "      <th>Gender</th>\n",
       "      <th>Unique Headcount</th>\n",
       "    </tr>\n",
       "  </thead>\n",
       "  <tbody>\n",
       "    <tr>\n",
       "      <th>0</th>\n",
       "      <td>0</td>\n",
       "      <td>2008/09</td>\n",
       "      <td>Fall term</td>\n",
       "      <td>Graduate</td>\n",
       "      <td>Doctoral</td>\n",
       "      <td>D</td>\n",
       "      <td>4</td>\n",
       "      <td>AHS</td>\n",
       "      <td>Aging, Health and Well-Being</td>\n",
       "      <td>Regular</td>\n",
       "      <td>Academic Term</td>\n",
       "      <td>Full-Time</td>\n",
       "      <td>Canadian</td>\n",
       "      <td>Male</td>\n",
       "      <td>5</td>\n",
       "    </tr>\n",
       "    <tr>\n",
       "      <th>1</th>\n",
       "      <td>1</td>\n",
       "      <td>2008/09</td>\n",
       "      <td>Fall term</td>\n",
       "      <td>Graduate</td>\n",
       "      <td>Doctoral</td>\n",
       "      <td>D</td>\n",
       "      <td>4</td>\n",
       "      <td>AHS</td>\n",
       "      <td>Aging, Health and Well-Being</td>\n",
       "      <td>Regular</td>\n",
       "      <td>Academic Term</td>\n",
       "      <td>Full-Time</td>\n",
       "      <td>Canadian</td>\n",
       "      <td>Female</td>\n",
       "      <td>7</td>\n",
       "    </tr>\n",
       "    <tr>\n",
       "      <th>2</th>\n",
       "      <td>2</td>\n",
       "      <td>2008/09</td>\n",
       "      <td>Fall term</td>\n",
       "      <td>Graduate</td>\n",
       "      <td>Doctoral</td>\n",
       "      <td>D</td>\n",
       "      <td>4</td>\n",
       "      <td>AHS</td>\n",
       "      <td>Aging, Health and Well-Being</td>\n",
       "      <td>Regular</td>\n",
       "      <td>Academic Term</td>\n",
       "      <td>Full-Time</td>\n",
       "      <td>International</td>\n",
       "      <td>Female</td>\n",
       "      <td>1</td>\n",
       "    </tr>\n",
       "    <tr>\n",
       "      <th>3</th>\n",
       "      <td>3</td>\n",
       "      <td>2008/09</td>\n",
       "      <td>Fall term</td>\n",
       "      <td>Graduate</td>\n",
       "      <td>Doctoral</td>\n",
       "      <td>D</td>\n",
       "      <td>4</td>\n",
       "      <td>AHS</td>\n",
       "      <td>Health Studies and Gerontology</td>\n",
       "      <td>Regular</td>\n",
       "      <td>Academic Term</td>\n",
       "      <td>Full-Time</td>\n",
       "      <td>Canadian</td>\n",
       "      <td>Male</td>\n",
       "      <td>3</td>\n",
       "    </tr>\n",
       "    <tr>\n",
       "      <th>4</th>\n",
       "      <td>4</td>\n",
       "      <td>2008/09</td>\n",
       "      <td>Fall term</td>\n",
       "      <td>Graduate</td>\n",
       "      <td>Doctoral</td>\n",
       "      <td>D</td>\n",
       "      <td>4</td>\n",
       "      <td>AHS</td>\n",
       "      <td>Health Studies and Gerontology</td>\n",
       "      <td>Regular</td>\n",
       "      <td>Academic Term</td>\n",
       "      <td>Full-Time</td>\n",
       "      <td>Canadian</td>\n",
       "      <td>Female</td>\n",
       "      <td>11</td>\n",
       "    </tr>\n",
       "    <tr>\n",
       "      <th>...</th>\n",
       "      <td>...</td>\n",
       "      <td>...</td>\n",
       "      <td>...</td>\n",
       "      <td>...</td>\n",
       "      <td>...</td>\n",
       "      <td>...</td>\n",
       "      <td>...</td>\n",
       "      <td>...</td>\n",
       "      <td>...</td>\n",
       "      <td>...</td>\n",
       "      <td>...</td>\n",
       "      <td>...</td>\n",
       "      <td>...</td>\n",
       "      <td>...</td>\n",
       "      <td>...</td>\n",
       "    </tr>\n",
       "    <tr>\n",
       "      <th>72244</th>\n",
       "      <td>72244</td>\n",
       "      <td>2014/15</td>\n",
       "      <td>Winter term</td>\n",
       "      <td>Undergraduate</td>\n",
       "      <td>Non-Degree</td>\n",
       "      <td>N</td>\n",
       "      <td>4</td>\n",
       "      <td>SCI</td>\n",
       "      <td>Science</td>\n",
       "      <td>Regular</td>\n",
       "      <td>Academic Term</td>\n",
       "      <td>Part-Time</td>\n",
       "      <td>Canadian</td>\n",
       "      <td>Male</td>\n",
       "      <td>25</td>\n",
       "    </tr>\n",
       "    <tr>\n",
       "      <th>72245</th>\n",
       "      <td>72245</td>\n",
       "      <td>2014/15</td>\n",
       "      <td>Winter term</td>\n",
       "      <td>Undergraduate</td>\n",
       "      <td>Non-Degree</td>\n",
       "      <td>N</td>\n",
       "      <td>4</td>\n",
       "      <td>SCI</td>\n",
       "      <td>Science</td>\n",
       "      <td>Regular</td>\n",
       "      <td>Academic Term</td>\n",
       "      <td>Part-Time</td>\n",
       "      <td>Canadian</td>\n",
       "      <td>Female</td>\n",
       "      <td>27</td>\n",
       "    </tr>\n",
       "    <tr>\n",
       "      <th>72246</th>\n",
       "      <td>72246</td>\n",
       "      <td>2014/15</td>\n",
       "      <td>Winter term</td>\n",
       "      <td>Undergraduate</td>\n",
       "      <td>Non-Degree</td>\n",
       "      <td>N</td>\n",
       "      <td>4</td>\n",
       "      <td>SCI</td>\n",
       "      <td>Science</td>\n",
       "      <td>Regular</td>\n",
       "      <td>Academic Term</td>\n",
       "      <td>Part-Time</td>\n",
       "      <td>Canadian Permanent Resident</td>\n",
       "      <td>Female</td>\n",
       "      <td>1</td>\n",
       "    </tr>\n",
       "    <tr>\n",
       "      <th>72247</th>\n",
       "      <td>72247</td>\n",
       "      <td>2014/15</td>\n",
       "      <td>Winter term</td>\n",
       "      <td>Undergraduate</td>\n",
       "      <td>Non-Degree</td>\n",
       "      <td>N</td>\n",
       "      <td>4</td>\n",
       "      <td>SCI</td>\n",
       "      <td>Science</td>\n",
       "      <td>Regular</td>\n",
       "      <td>Academic Term</td>\n",
       "      <td>Part-Time</td>\n",
       "      <td>International</td>\n",
       "      <td>Male</td>\n",
       "      <td>30</td>\n",
       "    </tr>\n",
       "    <tr>\n",
       "      <th>72248</th>\n",
       "      <td>72248</td>\n",
       "      <td>2014/15</td>\n",
       "      <td>Winter term</td>\n",
       "      <td>Undergraduate</td>\n",
       "      <td>Non-Degree</td>\n",
       "      <td>N</td>\n",
       "      <td>4</td>\n",
       "      <td>SCI</td>\n",
       "      <td>Science</td>\n",
       "      <td>Regular</td>\n",
       "      <td>Academic Term</td>\n",
       "      <td>Part-Time</td>\n",
       "      <td>International</td>\n",
       "      <td>Female</td>\n",
       "      <td>18</td>\n",
       "    </tr>\n",
       "  </tbody>\n",
       "</table>\n",
       "<p>72249 rows × 15 columns</p>\n",
       "</div>"
      ],
      "text/plain": [
       "          Id Fiscal Year    Term Type         Career Program Level Study Year  \\\n",
       "0          0     2008/09    Fall term       Graduate      Doctoral          D   \n",
       "1          1     2008/09    Fall term       Graduate      Doctoral          D   \n",
       "2          2     2008/09    Fall term       Graduate      Doctoral          D   \n",
       "3          3     2008/09    Fall term       Graduate      Doctoral          D   \n",
       "4          4     2008/09    Fall term       Graduate      Doctoral          D   \n",
       "...      ...         ...          ...            ...           ...        ...   \n",
       "72244  72244     2014/15  Winter term  Undergraduate    Non-Degree          N   \n",
       "72245  72245     2014/15  Winter term  Undergraduate    Non-Degree          N   \n",
       "72246  72246     2014/15  Winter term  Undergraduate    Non-Degree          N   \n",
       "72247  72247     2014/15  Winter term  Undergraduate    Non-Degree          N   \n",
       "72248  72248     2014/15  Winter term  Undergraduate    Non-Degree          N   \n",
       "\n",
       "       Campus_Id Faculty Group                Program Grouping Coop Regular  \\\n",
       "0              4           AHS    Aging, Health and Well-Being      Regular   \n",
       "1              4           AHS    Aging, Health and Well-Being      Regular   \n",
       "2              4           AHS    Aging, Health and Well-Being      Regular   \n",
       "3              4           AHS  Health Studies and Gerontology      Regular   \n",
       "4              4           AHS  Health Studies and Gerontology      Regular   \n",
       "...          ...           ...                             ...          ...   \n",
       "72244          4           SCI                         Science      Regular   \n",
       "72245          4           SCI                         Science      Regular   \n",
       "72246          4           SCI                         Science      Regular   \n",
       "72247          4           SCI                         Science      Regular   \n",
       "72248          4           SCI                         Science      Regular   \n",
       "\n",
       "            WorkTerm Attendance                  Visa Status  Gender  \\\n",
       "0      Academic Term  Full-Time                     Canadian    Male   \n",
       "1      Academic Term  Full-Time                     Canadian  Female   \n",
       "2      Academic Term  Full-Time                International  Female   \n",
       "3      Academic Term  Full-Time                     Canadian    Male   \n",
       "4      Academic Term  Full-Time                     Canadian  Female   \n",
       "...              ...        ...                          ...     ...   \n",
       "72244  Academic Term  Part-Time                     Canadian    Male   \n",
       "72245  Academic Term  Part-Time                     Canadian  Female   \n",
       "72246  Academic Term  Part-Time  Canadian Permanent Resident  Female   \n",
       "72247  Academic Term  Part-Time                International    Male   \n",
       "72248  Academic Term  Part-Time                International  Female   \n",
       "\n",
       "       Unique Headcount  \n",
       "0                     5  \n",
       "1                     7  \n",
       "2                     1  \n",
       "3                     3  \n",
       "4                    11  \n",
       "...                 ...  \n",
       "72244                25  \n",
       "72245                27  \n",
       "72246                 1  \n",
       "72247                30  \n",
       "72248                18  \n",
       "\n",
       "[72249 rows x 15 columns]"
      ]
     },
     "execution_count": 71,
     "metadata": {},
     "output_type": "execute_result"
    }
   ],
   "source": [
    "train"
   ]
  },
  {
   "cell_type": "markdown",
   "metadata": {},
   "source": [
    "# We infer that\n",
    "- Id column is not necessary for our prediction, so we drop it\n",
    "- Campus Id although continuous is by intuition a categorical variable, so we convert it to string"
   ]
  },
  {
   "cell_type": "code",
   "execution_count": 72,
   "metadata": {},
   "outputs": [],
   "source": [
    "train = train.drop(['Id'],axis=1)\n",
    "train['Campus_Id'] = train['Campus_Id'].apply(lambda x: str(x))\n",
    "test_id = test[\"Id\"]\n",
    "test[\"Campus_Id\"] = test[\"Campus_Id\"].apply(lambda x:str(x))\n",
    "test = test.drop(\"Id\",axis=1)"
   ]
  },
  {
   "cell_type": "markdown",
   "metadata": {},
   "source": [
    "# Here we plot the countplot of the train and test to check if the distributions are the same"
   ]
  },
  {
   "cell_type": "code",
   "execution_count": 73,
   "metadata": {
    "scrolled": false
   },
   "outputs": [
    {
     "data": {
      "image/png": "[encoded data removed]",
      "text/plain": [
       "<Figure size 1008x360 with 2 Axes>"
      ]
     },
     "metadata": {
      "needs_background": "light"
     },
     "output_type": "display_data"
    },
    {
     "data": {
      "image/png": "[encoded data removed]",
      "text/plain": [
       "<Figure size 1008x360 with 7 Axes>"
      ]
     },
     "metadata": {
      "needs_background": "light"
     },
     "output_type": "display_data"
    },
    {
     "data": {
      "image/png": "[encoded data removed]",
      "text/plain": [
       "<Figure size 1008x360 with 2 Axes>"
      ]
     },
     "metadata": {
      "needs_background": "light"
     },
     "output_type": "display_data"
    },
    {
     "data": {
      "image/png": "[encoded data removed]",
      "text/plain": [
       "<Figure size 1008x360 with 3 Axes>"
      ]
     },
     "metadata": {
      "needs_background": "light"
     },
     "output_type": "display_data"
    },
    {
     "data": {
      "image/png": "[encoded data removed]",
      "text/plain": [
       "<Figure size 1008x360 with 2 Axes>"
      ]
     },
     "metadata": {
      "needs_background": "light"
     },
     "output_type": "display_data"
    },
    {
     "data": {
      "image/png": "[encoded data removed]",
      "text/plain": [
       "<Figure size 1008x360 with 2 Axes>"
      ]
     },
     "metadata": {
      "needs_background": "light"
     },
     "output_type": "display_data"
    },
    {
     "data": {
      "image/png": "[encoded data removed]",
      "text/plain": [
       "<Figure size 1008x360 with 2 Axes>"
      ]
     },
     "metadata": {
      "needs_background": "light"
     },
     "output_type": "display_data"
    },
    {
     "data": {
      "image/png": "[encoded data removed]",
      "text/plain": [
       "<Figure size 1008x360 with 5 Axes>"
      ]
     },
     "metadata": {
      "needs_background": "light"
     },
     "output_type": "display_data"
    },
    {
     "data": {
      "image/png": "[encoded data removed]",
      "text/plain": [
       "<Figure size 1008x360 with 2 Axes>"
      ]
     },
     "metadata": {
      "needs_background": "light"
     },
     "output_type": "display_data"
    },
    {
     "data": {
      "image/png": "[encoded data removed]",
      "text/plain": [
       "<Figure size 1008x360 with 8 Axes>"
      ]
     },
     "metadata": {
      "needs_background": "light"
     },
     "output_type": "display_data"
    },
    {
     "data": {
      "image/png": "[encoded data removed]",
      "text/plain": [
       "<Figure size 1008x360 with 2 Axes>"
      ]
     },
     "metadata": {
      "needs_background": "light"
     },
     "output_type": "display_data"
    },
    {
     "data": {
      "image/png": "[encoded data removed]",
      "text/plain": [
       "<Figure size 1008x360 with 5 Axes>"
      ]
     },
     "metadata": {
      "needs_background": "light"
     },
     "output_type": "display_data"
    },
    {
     "data": {
      "image/png": "[encoded data removed]",
      "text/plain": [
       "<Figure size 1008x360 with 2 Axes>"
      ]
     },
     "metadata": {
      "needs_background": "light"
     },
     "output_type": "display_data"
    },
    {
     "data": {
      "image/png": "[encoded data removed]",
      "text/plain": [
       "<Figure size 1008x360 with 10 Axes>"
      ]
     },
     "metadata": {
      "needs_background": "light"
     },
     "output_type": "display_data"
    },
    {
     "data": {
      "image/png": "[encoded data removed]",
      "text/plain": [
       "<Figure size 1008x360 with 2 Axes>"
      ]
     },
     "metadata": {
      "needs_background": "light"
     },
     "output_type": "display_data"
    },
    {
     "data": {
      "image/png": "[encoded data removed]",
      "text/plain": [
       "<Figure size 1008x360 with 2 Axes>"
      ]
     },
     "metadata": {
      "needs_background": "light"
     },
     "output_type": "display_data"
    },
    {
     "data": {
      "image/png": "[encoded data removed]",
      "text/plain": [
       "<Figure size 1008x360 with 2 Axes>"
      ]
     },
     "metadata": {
      "needs_background": "light"
     },
     "output_type": "display_data"
    },
    {
     "data": {
      "image/png": "[encoded data removed]",
      "text/plain": [
       "<Figure size 1008x360 with 2 Axes>"
      ]
     },
     "metadata": {
      "needs_background": "light"
     },
     "output_type": "display_data"
    },
    {
     "data": {
      "image/png": "[encoded data removed]",
      "text/plain": [
       "<Figure size 1008x360 with 2 Axes>"
      ]
     },
     "metadata": {
      "needs_background": "light"
     },
     "output_type": "display_data"
    },
    {
     "data": {
      "image/png": "[encoded data removed]",
      "text/plain": [
       "<Figure size 1008x360 with 2 Axes>"
      ]
     },
     "metadata": {
      "needs_background": "light"
     },
     "output_type": "display_data"
    },
    {
     "data": {
      "image/png": "[encoded data removed]",
      "text/plain": [
       "<Figure size 1008x360 with 3 Axes>"
      ]
     },
     "metadata": {
      "needs_background": "light"
     },
     "output_type": "display_data"
    },
    {
     "data": {
      "image/png": "[encoded data removed]",
      "text/plain": [
       "<Figure size 1008x360 with 2 Axes>"
      ]
     },
     "metadata": {
      "needs_background": "light"
     },
     "output_type": "display_data"
    },
    {
     "data": {
      "image/png": "[encoded data removed]",
      "text/plain": [
       "<Figure size 1008x360 with 3 Axes>"
      ]
     },
     "metadata": {
      "needs_background": "light"
     },
     "output_type": "display_data"
    },
    {
     "data": {
      "image/png": "[encoded data removed]",
      "text/plain": [
       "<Figure size 1008x360 with 2 Axes>"
      ]
     },
     "metadata": {
      "needs_background": "light"
     },
     "output_type": "display_data"
    },
    {
     "data": {
      "image/png": "[encoded data removed]",
      "text/plain": [
       "<Figure size 1008x360 with 3 Axes>"
      ]
     },
     "metadata": {
      "needs_background": "light"
     },
     "output_type": "display_data"
    }
   ],
   "source": [
    "for i in train.columns[:-1]:\n",
    "    train_i = pd.DataFrame(train[i].value_counts())\n",
    "    test_i = pd.DataFrame(test[i].value_counts())\n",
    "    plt.figure(figsize=(14,5))\n",
    "    plt.subplot(1,2,1)\n",
    "    plt.bar(train_i.index,train_i[i],color='rgbkymc')\n",
    "    plt.title(\"Train - \"+i)\n",
    "    plt.xlabel(i)\n",
    "    plt.ylabel(\"Frequency\")\n",
    "    plt.subplot(1,2,2)\n",
    "    plt.bar(test_i.index,test_i[i],color='rgbkymc')\n",
    "    plt.title(\"Test - \"+i)\n",
    "    plt.xlabel(i)\n",
    "    plt.ylabel(\"Frequency\")\n",
    "    if i!=\"Program Grouping\":\n",
    "        plt.figure(figsize=(14,5))\n",
    "        for j in range(len(train[i].unique())):\n",
    "            plt.subplot(1,len(train[i].unique()),j+1)\n",
    "            plt.hist(train[train[i]==train[i].unique()[j]][\"Unique Headcount\"])\n",
    "            plt.title(i+'-'+train[i].unique()[j])\n",
    "            plt.xlabel(train[i].unique()[j])\n",
    "            plt.ylabel(\"Frequency\")\n",
    "#             print(train[train[i]==train[i].unique()[j]][\"Unique Headcount\"].describe())\n",
    "    plt.show()"
   ]
  },
  {
   "cell_type": "markdown",
   "metadata": {},
   "source": [
    "# From the above we find that \n",
    "- The train dataset contains data of the Fiscal Years 2008/09-2013/14\n",
    "- The test dataset contains data of the Fiscal Year 2015/16 alone\n",
    "- Most columns have a similar distribution of variables except for a few where the test set does not have the variable itself"
   ]
  },
  {
   "cell_type": "code",
   "execution_count": 74,
   "metadata": {},
   "outputs": [
    {
     "data": {
      "text/html": [
       "<div>\n",
       "<style scoped>\n",
       "    .dataframe tbody tr th:only-of-type {\n",
       "        vertical-align: middle;\n",
       "    }\n",
       "\n",
       "    .dataframe tbody tr th {\n",
       "        vertical-align: top;\n",
       "    }\n",
       "\n",
       "    .dataframe thead th {\n",
       "        text-align: right;\n",
       "    }\n",
       "</style>\n",
       "<table border=\"1\" class=\"dataframe\">\n",
       "  <thead>\n",
       "    <tr style=\"text-align: right;\">\n",
       "      <th></th>\n",
       "      <th>count</th>\n",
       "      <th>unique</th>\n",
       "      <th>top</th>\n",
       "      <th>freq</th>\n",
       "    </tr>\n",
       "  </thead>\n",
       "  <tbody>\n",
       "    <tr>\n",
       "      <th>Fiscal Year</th>\n",
       "      <td>10924</td>\n",
       "      <td>1</td>\n",
       "      <td>2015/16</td>\n",
       "      <td>100.000000</td>\n",
       "    </tr>\n",
       "    <tr>\n",
       "      <th>Term Type</th>\n",
       "      <td>10924</td>\n",
       "      <td>3</td>\n",
       "      <td>Winter term</td>\n",
       "      <td>34.520322</td>\n",
       "    </tr>\n",
       "    <tr>\n",
       "      <th>Career</th>\n",
       "      <td>10924</td>\n",
       "      <td>2</td>\n",
       "      <td>Undergraduate</td>\n",
       "      <td>81.288905</td>\n",
       "    </tr>\n",
       "    <tr>\n",
       "      <th>Program Level</th>\n",
       "      <td>10924</td>\n",
       "      <td>5</td>\n",
       "      <td>Bachelors</td>\n",
       "      <td>79.192603</td>\n",
       "    </tr>\n",
       "    <tr>\n",
       "      <th>Study Year</th>\n",
       "      <td>10924</td>\n",
       "      <td>8</td>\n",
       "      <td>3</td>\n",
       "      <td>23.407177</td>\n",
       "    </tr>\n",
       "    <tr>\n",
       "      <th>Campus_Id</th>\n",
       "      <td>10924</td>\n",
       "      <td>4</td>\n",
       "      <td>4</td>\n",
       "      <td>91.385939</td>\n",
       "    </tr>\n",
       "    <tr>\n",
       "      <th>Faculty Group</th>\n",
       "      <td>10924</td>\n",
       "      <td>10</td>\n",
       "      <td>ARTS</td>\n",
       "      <td>25.100696</td>\n",
       "    </tr>\n",
       "    <tr>\n",
       "      <th>Program Grouping</th>\n",
       "      <td>10924</td>\n",
       "      <td>136</td>\n",
       "      <td>Computer Science</td>\n",
       "      <td>3.707433</td>\n",
       "    </tr>\n",
       "    <tr>\n",
       "      <th>Coop Regular</th>\n",
       "      <td>10924</td>\n",
       "      <td>2</td>\n",
       "      <td>Regular</td>\n",
       "      <td>52.041377</td>\n",
       "    </tr>\n",
       "    <tr>\n",
       "      <th>WorkTerm</th>\n",
       "      <td>10924</td>\n",
       "      <td>2</td>\n",
       "      <td>Academic Term</td>\n",
       "      <td>81.023435</td>\n",
       "    </tr>\n",
       "    <tr>\n",
       "      <th>Attendance</th>\n",
       "      <td>10924</td>\n",
       "      <td>2</td>\n",
       "      <td>Full-Time</td>\n",
       "      <td>81.838155</td>\n",
       "    </tr>\n",
       "    <tr>\n",
       "      <th>Visa Status</th>\n",
       "      <td>10924</td>\n",
       "      <td>3</td>\n",
       "      <td>Canadian</td>\n",
       "      <td>55.373490</td>\n",
       "    </tr>\n",
       "    <tr>\n",
       "      <th>Gender</th>\n",
       "      <td>10924</td>\n",
       "      <td>3</td>\n",
       "      <td>Female</td>\n",
       "      <td>50.750641</td>\n",
       "    </tr>\n",
       "  </tbody>\n",
       "</table>\n",
       "</div>"
      ],
      "text/plain": [
       "                  count unique               top        freq\n",
       "Fiscal Year       10924      1           2015/16  100.000000\n",
       "Term Type         10924      3       Winter term   34.520322\n",
       "Career            10924      2     Undergraduate   81.288905\n",
       "Program Level     10924      5         Bachelors   79.192603\n",
       "Study Year        10924      8                 3   23.407177\n",
       "Campus_Id         10924      4                 4   91.385939\n",
       "Faculty Group     10924     10              ARTS   25.100696\n",
       "Program Grouping  10924    136  Computer Science    3.707433\n",
       "Coop Regular      10924      2           Regular   52.041377\n",
       "WorkTerm          10924      2     Academic Term   81.023435\n",
       "Attendance        10924      2         Full-Time   81.838155\n",
       "Visa Status       10924      3          Canadian   55.373490\n",
       "Gender            10924      3            Female   50.750641"
      ]
     },
     "execution_count": 74,
     "metadata": {},
     "output_type": "execute_result"
    }
   ],
   "source": [
    "test_stats = test.describe().transpose()\n",
    "train_stats = train.describe(include=[\"O\"]).transpose()\n",
    "test_stats[\"freq\"] = test_stats[\"freq\"].apply(lambda x: 100*x/test.shape[0])\n",
    "train_stats[\"freq\"] = train_stats[\"freq\"].apply(lambda x: 100*x/train.shape[0])\n",
    "test_stats"
   ]
  },
  {
   "cell_type": "code",
   "execution_count": 75,
   "metadata": {},
   "outputs": [
    {
     "data": {
      "text/html": [
       "<div>\n",
       "<style scoped>\n",
       "    .dataframe tbody tr th:only-of-type {\n",
       "        vertical-align: middle;\n",
       "    }\n",
       "\n",
       "    .dataframe tbody tr th {\n",
       "        vertical-align: top;\n",
       "    }\n",
       "\n",
       "    .dataframe thead th {\n",
       "        text-align: right;\n",
       "    }\n",
       "</style>\n",
       "<table border=\"1\" class=\"dataframe\">\n",
       "  <thead>\n",
       "    <tr style=\"text-align: right;\">\n",
       "      <th></th>\n",
       "      <th>count</th>\n",
       "      <th>unique</th>\n",
       "      <th>top</th>\n",
       "      <th>freq</th>\n",
       "    </tr>\n",
       "  </thead>\n",
       "  <tbody>\n",
       "    <tr>\n",
       "      <th>Fiscal Year</th>\n",
       "      <td>72249</td>\n",
       "      <td>7</td>\n",
       "      <td>2013/14</td>\n",
       "      <td>15.000900</td>\n",
       "    </tr>\n",
       "    <tr>\n",
       "      <th>Term Type</th>\n",
       "      <td>72249</td>\n",
       "      <td>3</td>\n",
       "      <td>Winter term</td>\n",
       "      <td>34.861382</td>\n",
       "    </tr>\n",
       "    <tr>\n",
       "      <th>Career</th>\n",
       "      <td>72249</td>\n",
       "      <td>2</td>\n",
       "      <td>Undergraduate</td>\n",
       "      <td>81.123614</td>\n",
       "    </tr>\n",
       "    <tr>\n",
       "      <th>Program Level</th>\n",
       "      <td>72249</td>\n",
       "      <td>5</td>\n",
       "      <td>Bachelors</td>\n",
       "      <td>78.762336</td>\n",
       "    </tr>\n",
       "    <tr>\n",
       "      <th>Study Year</th>\n",
       "      <td>72249</td>\n",
       "      <td>8</td>\n",
       "      <td>3</td>\n",
       "      <td>23.097898</td>\n",
       "    </tr>\n",
       "    <tr>\n",
       "      <th>Campus_Id</th>\n",
       "      <td>72249</td>\n",
       "      <td>5</td>\n",
       "      <td>4</td>\n",
       "      <td>89.165248</td>\n",
       "    </tr>\n",
       "    <tr>\n",
       "      <th>Faculty Group</th>\n",
       "      <td>72249</td>\n",
       "      <td>10</td>\n",
       "      <td>ARTS</td>\n",
       "      <td>26.988609</td>\n",
       "    </tr>\n",
       "    <tr>\n",
       "      <th>Program Grouping</th>\n",
       "      <td>72249</td>\n",
       "      <td>147</td>\n",
       "      <td>Computer Science</td>\n",
       "      <td>3.788288</td>\n",
       "    </tr>\n",
       "    <tr>\n",
       "      <th>Coop Regular</th>\n",
       "      <td>72249</td>\n",
       "      <td>2</td>\n",
       "      <td>Regular</td>\n",
       "      <td>54.265111</td>\n",
       "    </tr>\n",
       "    <tr>\n",
       "      <th>WorkTerm</th>\n",
       "      <td>72249</td>\n",
       "      <td>2</td>\n",
       "      <td>Academic Term</td>\n",
       "      <td>82.113247</td>\n",
       "    </tr>\n",
       "    <tr>\n",
       "      <th>Attendance</th>\n",
       "      <td>72249</td>\n",
       "      <td>3</td>\n",
       "      <td>Full-Time</td>\n",
       "      <td>81.177594</td>\n",
       "    </tr>\n",
       "    <tr>\n",
       "      <th>Visa Status</th>\n",
       "      <td>72249</td>\n",
       "      <td>3</td>\n",
       "      <td>Canadian</td>\n",
       "      <td>56.032609</td>\n",
       "    </tr>\n",
       "    <tr>\n",
       "      <th>Gender</th>\n",
       "      <td>72249</td>\n",
       "      <td>3</td>\n",
       "      <td>Male</td>\n",
       "      <td>50.050520</td>\n",
       "    </tr>\n",
       "  </tbody>\n",
       "</table>\n",
       "</div>"
      ],
      "text/plain": [
       "                  count unique               top       freq\n",
       "Fiscal Year       72249      7           2013/14  15.000900\n",
       "Term Type         72249      3       Winter term  34.861382\n",
       "Career            72249      2     Undergraduate  81.123614\n",
       "Program Level     72249      5         Bachelors  78.762336\n",
       "Study Year        72249      8                 3  23.097898\n",
       "Campus_Id         72249      5                 4  89.165248\n",
       "Faculty Group     72249     10              ARTS  26.988609\n",
       "Program Grouping  72249    147  Computer Science   3.788288\n",
       "Coop Regular      72249      2           Regular  54.265111\n",
       "WorkTerm          72249      2     Academic Term  82.113247\n",
       "Attendance        72249      3         Full-Time  81.177594\n",
       "Visa Status       72249      3          Canadian  56.032609\n",
       "Gender            72249      3              Male  50.050520"
      ]
     },
     "execution_count": 75,
     "metadata": {},
     "output_type": "execute_result"
    }
   ],
   "source": [
    "train_stats"
   ]
  },
  {
   "cell_type": "markdown",
   "metadata": {},
   "source": [
    "- Luckily for us there are no missing values, and the frequencies of the most common value doesn't differ\n",
    "- Unluckiliy for us, like mentioned earlier, the number of unique values in each column differs in the test and train, this might pose a problem"
   ]
  },
  {
   "cell_type": "markdown",
   "metadata": {},
   "source": [
    "# Converting all the categorical columns into one-hot so we can use it for computations"
   ]
  },
  {
   "cell_type": "code",
   "execution_count": 76,
   "metadata": {},
   "outputs": [],
   "source": [
    "cols = train.columns\n",
    "for j in cols[:-1]:\n",
    "    col = list(train[j].unique())\n",
    "    for i in test[j].unique():\n",
    "        if i not in col:\n",
    "            col.append(i)\n",
    "    for i in col:\n",
    "        train[j+\"-\"+i] = train[j].apply(lambda x: 1 if x==i else 0)\n",
    "        test[j+\"-\"+i] = test[j].apply(lambda x: 1 if x==i else 0)\n",
    "        \n",
    "headcount = train[\"Unique Headcount\"]\n",
    "train = train.drop(cols,axis=1)\n",
    "test = test.drop(cols[:-1],axis=1)\n",
    "train[\"Unique Headcount\"] = headcount"
   ]
  },
  {
   "cell_type": "markdown",
   "metadata": {},
   "source": [
    "# Checking if it has worked properly"
   ]
  },
  {
   "cell_type": "code",
   "execution_count": 77,
   "metadata": {},
   "outputs": [
    {
     "data": {
      "text/plain": [
       "True"
      ]
     },
     "execution_count": 77,
     "metadata": {},
     "output_type": "execute_result"
    }
   ],
   "source": [
    "train.shape[1]==test.shape[1]+1"
   ]
  },
  {
   "cell_type": "code",
   "execution_count": 78,
   "metadata": {},
   "outputs": [
    {
     "data": {
      "text/html": [
       "<div>\n",
       "<style scoped>\n",
       "    .dataframe tbody tr th:only-of-type {\n",
       "        vertical-align: middle;\n",
       "    }\n",
       "\n",
       "    .dataframe tbody tr th {\n",
       "        vertical-align: top;\n",
       "    }\n",
       "\n",
       "    .dataframe thead th {\n",
       "        text-align: right;\n",
       "    }\n",
       "</style>\n",
       "<table border=\"1\" class=\"dataframe\">\n",
       "  <thead>\n",
       "    <tr style=\"text-align: right;\">\n",
       "      <th></th>\n",
       "      <th>Fiscal Year-2008/09</th>\n",
       "      <th>Fiscal Year-2009/10</th>\n",
       "      <th>Fiscal Year-2010/11</th>\n",
       "      <th>Fiscal Year-2011/12</th>\n",
       "      <th>Fiscal Year-2012/13</th>\n",
       "      <th>Fiscal Year-2013/14</th>\n",
       "      <th>Fiscal Year-2014/15</th>\n",
       "      <th>Fiscal Year-2015/16</th>\n",
       "      <th>Term Type-Fall term</th>\n",
       "      <th>Term Type-Spring term</th>\n",
       "      <th>...</th>\n",
       "      <th>Attendance-Full-Time</th>\n",
       "      <th>Attendance-Part-Time</th>\n",
       "      <th>Attendance-Unknown Attendance</th>\n",
       "      <th>Visa Status-Canadian</th>\n",
       "      <th>Visa Status-International</th>\n",
       "      <th>Visa Status-Canadian Permanent Resident</th>\n",
       "      <th>Gender-Male</th>\n",
       "      <th>Gender-Female</th>\n",
       "      <th>Gender-Another Gender Identity</th>\n",
       "      <th>Unique Headcount</th>\n",
       "    </tr>\n",
       "  </thead>\n",
       "  <tbody>\n",
       "    <tr>\n",
       "      <th>0</th>\n",
       "      <td>1</td>\n",
       "      <td>0</td>\n",
       "      <td>0</td>\n",
       "      <td>0</td>\n",
       "      <td>0</td>\n",
       "      <td>0</td>\n",
       "      <td>0</td>\n",
       "      <td>0</td>\n",
       "      <td>1</td>\n",
       "      <td>0</td>\n",
       "      <td>...</td>\n",
       "      <td>1</td>\n",
       "      <td>0</td>\n",
       "      <td>0</td>\n",
       "      <td>1</td>\n",
       "      <td>0</td>\n",
       "      <td>0</td>\n",
       "      <td>1</td>\n",
       "      <td>0</td>\n",
       "      <td>0</td>\n",
       "      <td>5</td>\n",
       "    </tr>\n",
       "    <tr>\n",
       "      <th>1</th>\n",
       "      <td>1</td>\n",
       "      <td>0</td>\n",
       "      <td>0</td>\n",
       "      <td>0</td>\n",
       "      <td>0</td>\n",
       "      <td>0</td>\n",
       "      <td>0</td>\n",
       "      <td>0</td>\n",
       "      <td>1</td>\n",
       "      <td>0</td>\n",
       "      <td>...</td>\n",
       "      <td>1</td>\n",
       "      <td>0</td>\n",
       "      <td>0</td>\n",
       "      <td>1</td>\n",
       "      <td>0</td>\n",
       "      <td>0</td>\n",
       "      <td>0</td>\n",
       "      <td>1</td>\n",
       "      <td>0</td>\n",
       "      <td>7</td>\n",
       "    </tr>\n",
       "    <tr>\n",
       "      <th>2</th>\n",
       "      <td>1</td>\n",
       "      <td>0</td>\n",
       "      <td>0</td>\n",
       "      <td>0</td>\n",
       "      <td>0</td>\n",
       "      <td>0</td>\n",
       "      <td>0</td>\n",
       "      <td>0</td>\n",
       "      <td>1</td>\n",
       "      <td>0</td>\n",
       "      <td>...</td>\n",
       "      <td>1</td>\n",
       "      <td>0</td>\n",
       "      <td>0</td>\n",
       "      <td>0</td>\n",
       "      <td>1</td>\n",
       "      <td>0</td>\n",
       "      <td>0</td>\n",
       "      <td>1</td>\n",
       "      <td>0</td>\n",
       "      <td>1</td>\n",
       "    </tr>\n",
       "    <tr>\n",
       "      <th>3</th>\n",
       "      <td>1</td>\n",
       "      <td>0</td>\n",
       "      <td>0</td>\n",
       "      <td>0</td>\n",
       "      <td>0</td>\n",
       "      <td>0</td>\n",
       "      <td>0</td>\n",
       "      <td>0</td>\n",
       "      <td>1</td>\n",
       "      <td>0</td>\n",
       "      <td>...</td>\n",
       "      <td>1</td>\n",
       "      <td>0</td>\n",
       "      <td>0</td>\n",
       "      <td>1</td>\n",
       "      <td>0</td>\n",
       "      <td>0</td>\n",
       "      <td>1</td>\n",
       "      <td>0</td>\n",
       "      <td>0</td>\n",
       "      <td>3</td>\n",
       "    </tr>\n",
       "    <tr>\n",
       "      <th>4</th>\n",
       "      <td>1</td>\n",
       "      <td>0</td>\n",
       "      <td>0</td>\n",
       "      <td>0</td>\n",
       "      <td>0</td>\n",
       "      <td>0</td>\n",
       "      <td>0</td>\n",
       "      <td>0</td>\n",
       "      <td>1</td>\n",
       "      <td>0</td>\n",
       "      <td>...</td>\n",
       "      <td>1</td>\n",
       "      <td>0</td>\n",
       "      <td>0</td>\n",
       "      <td>1</td>\n",
       "      <td>0</td>\n",
       "      <td>0</td>\n",
       "      <td>0</td>\n",
       "      <td>1</td>\n",
       "      <td>0</td>\n",
       "      <td>11</td>\n",
       "    </tr>\n",
       "    <tr>\n",
       "      <th>...</th>\n",
       "      <td>...</td>\n",
       "      <td>...</td>\n",
       "      <td>...</td>\n",
       "      <td>...</td>\n",
       "      <td>...</td>\n",
       "      <td>...</td>\n",
       "      <td>...</td>\n",
       "      <td>...</td>\n",
       "      <td>...</td>\n",
       "      <td>...</td>\n",
       "      <td>...</td>\n",
       "      <td>...</td>\n",
       "      <td>...</td>\n",
       "      <td>...</td>\n",
       "      <td>...</td>\n",
       "      <td>...</td>\n",
       "      <td>...</td>\n",
       "      <td>...</td>\n",
       "      <td>...</td>\n",
       "      <td>...</td>\n",
       "      <td>...</td>\n",
       "    </tr>\n",
       "    <tr>\n",
       "      <th>72244</th>\n",
       "      <td>0</td>\n",
       "      <td>0</td>\n",
       "      <td>0</td>\n",
       "      <td>0</td>\n",
       "      <td>0</td>\n",
       "      <td>0</td>\n",
       "      <td>1</td>\n",
       "      <td>0</td>\n",
       "      <td>0</td>\n",
       "      <td>0</td>\n",
       "      <td>...</td>\n",
       "      <td>0</td>\n",
       "      <td>1</td>\n",
       "      <td>0</td>\n",
       "      <td>1</td>\n",
       "      <td>0</td>\n",
       "      <td>0</td>\n",
       "      <td>1</td>\n",
       "      <td>0</td>\n",
       "      <td>0</td>\n",
       "      <td>25</td>\n",
       "    </tr>\n",
       "    <tr>\n",
       "      <th>72245</th>\n",
       "      <td>0</td>\n",
       "      <td>0</td>\n",
       "      <td>0</td>\n",
       "      <td>0</td>\n",
       "      <td>0</td>\n",
       "      <td>0</td>\n",
       "      <td>1</td>\n",
       "      <td>0</td>\n",
       "      <td>0</td>\n",
       "      <td>0</td>\n",
       "      <td>...</td>\n",
       "      <td>0</td>\n",
       "      <td>1</td>\n",
       "      <td>0</td>\n",
       "      <td>1</td>\n",
       "      <td>0</td>\n",
       "      <td>0</td>\n",
       "      <td>0</td>\n",
       "      <td>1</td>\n",
       "      <td>0</td>\n",
       "      <td>27</td>\n",
       "    </tr>\n",
       "    <tr>\n",
       "      <th>72246</th>\n",
       "      <td>0</td>\n",
       "      <td>0</td>\n",
       "      <td>0</td>\n",
       "      <td>0</td>\n",
       "      <td>0</td>\n",
       "      <td>0</td>\n",
       "      <td>1</td>\n",
       "      <td>0</td>\n",
       "      <td>0</td>\n",
       "      <td>0</td>\n",
       "      <td>...</td>\n",
       "      <td>0</td>\n",
       "      <td>1</td>\n",
       "      <td>0</td>\n",
       "      <td>0</td>\n",
       "      <td>0</td>\n",
       "      <td>1</td>\n",
       "      <td>0</td>\n",
       "      <td>1</td>\n",
       "      <td>0</td>\n",
       "      <td>1</td>\n",
       "    </tr>\n",
       "    <tr>\n",
       "      <th>72247</th>\n",
       "      <td>0</td>\n",
       "      <td>0</td>\n",
       "      <td>0</td>\n",
       "      <td>0</td>\n",
       "      <td>0</td>\n",
       "      <td>0</td>\n",
       "      <td>1</td>\n",
       "      <td>0</td>\n",
       "      <td>0</td>\n",
       "      <td>0</td>\n",
       "      <td>...</td>\n",
       "      <td>0</td>\n",
       "      <td>1</td>\n",
       "      <td>0</td>\n",
       "      <td>0</td>\n",
       "      <td>1</td>\n",
       "      <td>0</td>\n",
       "      <td>1</td>\n",
       "      <td>0</td>\n",
       "      <td>0</td>\n",
       "      <td>30</td>\n",
       "    </tr>\n",
       "    <tr>\n",
       "      <th>72248</th>\n",
       "      <td>0</td>\n",
       "      <td>0</td>\n",
       "      <td>0</td>\n",
       "      <td>0</td>\n",
       "      <td>0</td>\n",
       "      <td>0</td>\n",
       "      <td>1</td>\n",
       "      <td>0</td>\n",
       "      <td>0</td>\n",
       "      <td>0</td>\n",
       "      <td>...</td>\n",
       "      <td>0</td>\n",
       "      <td>1</td>\n",
       "      <td>0</td>\n",
       "      <td>0</td>\n",
       "      <td>1</td>\n",
       "      <td>0</td>\n",
       "      <td>0</td>\n",
       "      <td>1</td>\n",
       "      <td>0</td>\n",
       "      <td>18</td>\n",
       "    </tr>\n",
       "  </tbody>\n",
       "</table>\n",
       "<p>72249 rows × 202 columns</p>\n",
       "</div>"
      ],
      "text/plain": [
       "       Fiscal Year-2008/09  Fiscal Year-2009/10  Fiscal Year-2010/11  \\\n",
       "0                        1                    0                    0   \n",
       "1                        1                    0                    0   \n",
       "2                        1                    0                    0   \n",
       "3                        1                    0                    0   \n",
       "4                        1                    0                    0   \n",
       "...                    ...                  ...                  ...   \n",
       "72244                    0                    0                    0   \n",
       "72245                    0                    0                    0   \n",
       "72246                    0                    0                    0   \n",
       "72247                    0                    0                    0   \n",
       "72248                    0                    0                    0   \n",
       "\n",
       "       Fiscal Year-2011/12  Fiscal Year-2012/13  Fiscal Year-2013/14  \\\n",
       "0                        0                    0                    0   \n",
       "1                        0                    0                    0   \n",
       "2                        0                    0                    0   \n",
       "3                        0                    0                    0   \n",
       "4                        0                    0                    0   \n",
       "...                    ...                  ...                  ...   \n",
       "72244                    0                    0                    0   \n",
       "72245                    0                    0                    0   \n",
       "72246                    0                    0                    0   \n",
       "72247                    0                    0                    0   \n",
       "72248                    0                    0                    0   \n",
       "\n",
       "       Fiscal Year-2014/15  Fiscal Year-2015/16  Term Type-Fall term  \\\n",
       "0                        0                    0                    1   \n",
       "1                        0                    0                    1   \n",
       "2                        0                    0                    1   \n",
       "3                        0                    0                    1   \n",
       "4                        0                    0                    1   \n",
       "...                    ...                  ...                  ...   \n",
       "72244                    1                    0                    0   \n",
       "72245                    1                    0                    0   \n",
       "72246                    1                    0                    0   \n",
       "72247                    1                    0                    0   \n",
       "72248                    1                    0                    0   \n",
       "\n",
       "       Term Type-Spring term  ...  Attendance-Full-Time  Attendance-Part-Time  \\\n",
       "0                          0  ...                     1                     0   \n",
       "1                          0  ...                     1                     0   \n",
       "2                          0  ...                     1                     0   \n",
       "3                          0  ...                     1                     0   \n",
       "4                          0  ...                     1                     0   \n",
       "...                      ...  ...                   ...                   ...   \n",
       "72244                      0  ...                     0                     1   \n",
       "72245                      0  ...                     0                     1   \n",
       "72246                      0  ...                     0                     1   \n",
       "72247                      0  ...                     0                     1   \n",
       "72248                      0  ...                     0                     1   \n",
       "\n",
       "       Attendance-Unknown Attendance  Visa Status-Canadian  \\\n",
       "0                                  0                     1   \n",
       "1                                  0                     1   \n",
       "2                                  0                     0   \n",
       "3                                  0                     1   \n",
       "4                                  0                     1   \n",
       "...                              ...                   ...   \n",
       "72244                              0                     1   \n",
       "72245                              0                     1   \n",
       "72246                              0                     0   \n",
       "72247                              0                     0   \n",
       "72248                              0                     0   \n",
       "\n",
       "       Visa Status-International  Visa Status-Canadian Permanent Resident  \\\n",
       "0                              0                                        0   \n",
       "1                              0                                        0   \n",
       "2                              1                                        0   \n",
       "3                              0                                        0   \n",
       "4                              0                                        0   \n",
       "...                          ...                                      ...   \n",
       "72244                          0                                        0   \n",
       "72245                          0                                        0   \n",
       "72246                          0                                        1   \n",
       "72247                          1                                        0   \n",
       "72248                          1                                        0   \n",
       "\n",
       "       Gender-Male  Gender-Female  Gender-Another Gender Identity  \\\n",
       "0                1              0                               0   \n",
       "1                0              1                               0   \n",
       "2                0              1                               0   \n",
       "3                1              0                               0   \n",
       "4                0              1                               0   \n",
       "...            ...            ...                             ...   \n",
       "72244            1              0                               0   \n",
       "72245            0              1                               0   \n",
       "72246            0              1                               0   \n",
       "72247            1              0                               0   \n",
       "72248            0              1                               0   \n",
       "\n",
       "       Unique Headcount  \n",
       "0                     5  \n",
       "1                     7  \n",
       "2                     1  \n",
       "3                     3  \n",
       "4                    11  \n",
       "...                 ...  \n",
       "72244                25  \n",
       "72245                27  \n",
       "72246                 1  \n",
       "72247                30  \n",
       "72248                18  \n",
       "\n",
       "[72249 rows x 202 columns]"
      ]
     },
     "execution_count": 78,
     "metadata": {},
     "output_type": "execute_result"
    }
   ],
   "source": [
    "train"
   ]
  },
  {
   "cell_type": "code",
   "execution_count": 79,
   "metadata": {},
   "outputs": [
    {
     "data": {
      "text/html": [
       "<div>\n",
       "<style scoped>\n",
       "    .dataframe tbody tr th:only-of-type {\n",
       "        vertical-align: middle;\n",
       "    }\n",
       "\n",
       "    .dataframe tbody tr th {\n",
       "        vertical-align: top;\n",
       "    }\n",
       "\n",
       "    .dataframe thead th {\n",
       "        text-align: right;\n",
       "    }\n",
       "</style>\n",
       "<table border=\"1\" class=\"dataframe\">\n",
       "  <thead>\n",
       "    <tr style=\"text-align: right;\">\n",
       "      <th></th>\n",
       "      <th>Fiscal Year-2008/09</th>\n",
       "      <th>Fiscal Year-2009/10</th>\n",
       "      <th>Fiscal Year-2010/11</th>\n",
       "      <th>Fiscal Year-2011/12</th>\n",
       "      <th>Fiscal Year-2012/13</th>\n",
       "      <th>Fiscal Year-2013/14</th>\n",
       "      <th>Fiscal Year-2014/15</th>\n",
       "      <th>Fiscal Year-2015/16</th>\n",
       "      <th>Term Type-Fall term</th>\n",
       "      <th>Term Type-Spring term</th>\n",
       "      <th>...</th>\n",
       "      <th>WorkTerm-Work Term</th>\n",
       "      <th>Attendance-Full-Time</th>\n",
       "      <th>Attendance-Part-Time</th>\n",
       "      <th>Attendance-Unknown Attendance</th>\n",
       "      <th>Visa Status-Canadian</th>\n",
       "      <th>Visa Status-International</th>\n",
       "      <th>Visa Status-Canadian Permanent Resident</th>\n",
       "      <th>Gender-Male</th>\n",
       "      <th>Gender-Female</th>\n",
       "      <th>Gender-Another Gender Identity</th>\n",
       "    </tr>\n",
       "  </thead>\n",
       "  <tbody>\n",
       "    <tr>\n",
       "      <th>0</th>\n",
       "      <td>0</td>\n",
       "      <td>0</td>\n",
       "      <td>0</td>\n",
       "      <td>0</td>\n",
       "      <td>0</td>\n",
       "      <td>0</td>\n",
       "      <td>0</td>\n",
       "      <td>1</td>\n",
       "      <td>1</td>\n",
       "      <td>0</td>\n",
       "      <td>...</td>\n",
       "      <td>0</td>\n",
       "      <td>1</td>\n",
       "      <td>0</td>\n",
       "      <td>0</td>\n",
       "      <td>1</td>\n",
       "      <td>0</td>\n",
       "      <td>0</td>\n",
       "      <td>1</td>\n",
       "      <td>0</td>\n",
       "      <td>0</td>\n",
       "    </tr>\n",
       "    <tr>\n",
       "      <th>1</th>\n",
       "      <td>0</td>\n",
       "      <td>0</td>\n",
       "      <td>0</td>\n",
       "      <td>0</td>\n",
       "      <td>0</td>\n",
       "      <td>0</td>\n",
       "      <td>0</td>\n",
       "      <td>1</td>\n",
       "      <td>1</td>\n",
       "      <td>0</td>\n",
       "      <td>...</td>\n",
       "      <td>0</td>\n",
       "      <td>1</td>\n",
       "      <td>0</td>\n",
       "      <td>0</td>\n",
       "      <td>1</td>\n",
       "      <td>0</td>\n",
       "      <td>0</td>\n",
       "      <td>0</td>\n",
       "      <td>1</td>\n",
       "      <td>0</td>\n",
       "    </tr>\n",
       "    <tr>\n",
       "      <th>2</th>\n",
       "      <td>0</td>\n",
       "      <td>0</td>\n",
       "      <td>0</td>\n",
       "      <td>0</td>\n",
       "      <td>0</td>\n",
       "      <td>0</td>\n",
       "      <td>0</td>\n",
       "      <td>1</td>\n",
       "      <td>1</td>\n",
       "      <td>0</td>\n",
       "      <td>...</td>\n",
       "      <td>0</td>\n",
       "      <td>1</td>\n",
       "      <td>0</td>\n",
       "      <td>0</td>\n",
       "      <td>0</td>\n",
       "      <td>0</td>\n",
       "      <td>1</td>\n",
       "      <td>0</td>\n",
       "      <td>1</td>\n",
       "      <td>0</td>\n",
       "    </tr>\n",
       "    <tr>\n",
       "      <th>3</th>\n",
       "      <td>0</td>\n",
       "      <td>0</td>\n",
       "      <td>0</td>\n",
       "      <td>0</td>\n",
       "      <td>0</td>\n",
       "      <td>0</td>\n",
       "      <td>0</td>\n",
       "      <td>1</td>\n",
       "      <td>1</td>\n",
       "      <td>0</td>\n",
       "      <td>...</td>\n",
       "      <td>0</td>\n",
       "      <td>1</td>\n",
       "      <td>0</td>\n",
       "      <td>0</td>\n",
       "      <td>0</td>\n",
       "      <td>1</td>\n",
       "      <td>0</td>\n",
       "      <td>1</td>\n",
       "      <td>0</td>\n",
       "      <td>0</td>\n",
       "    </tr>\n",
       "    <tr>\n",
       "      <th>4</th>\n",
       "      <td>0</td>\n",
       "      <td>0</td>\n",
       "      <td>0</td>\n",
       "      <td>0</td>\n",
       "      <td>0</td>\n",
       "      <td>0</td>\n",
       "      <td>0</td>\n",
       "      <td>1</td>\n",
       "      <td>1</td>\n",
       "      <td>0</td>\n",
       "      <td>...</td>\n",
       "      <td>0</td>\n",
       "      <td>0</td>\n",
       "      <td>1</td>\n",
       "      <td>0</td>\n",
       "      <td>1</td>\n",
       "      <td>0</td>\n",
       "      <td>0</td>\n",
       "      <td>0</td>\n",
       "      <td>1</td>\n",
       "      <td>0</td>\n",
       "    </tr>\n",
       "    <tr>\n",
       "      <th>...</th>\n",
       "      <td>...</td>\n",
       "      <td>...</td>\n",
       "      <td>...</td>\n",
       "      <td>...</td>\n",
       "      <td>...</td>\n",
       "      <td>...</td>\n",
       "      <td>...</td>\n",
       "      <td>...</td>\n",
       "      <td>...</td>\n",
       "      <td>...</td>\n",
       "      <td>...</td>\n",
       "      <td>...</td>\n",
       "      <td>...</td>\n",
       "      <td>...</td>\n",
       "      <td>...</td>\n",
       "      <td>...</td>\n",
       "      <td>...</td>\n",
       "      <td>...</td>\n",
       "      <td>...</td>\n",
       "      <td>...</td>\n",
       "      <td>...</td>\n",
       "    </tr>\n",
       "    <tr>\n",
       "      <th>10919</th>\n",
       "      <td>0</td>\n",
       "      <td>0</td>\n",
       "      <td>0</td>\n",
       "      <td>0</td>\n",
       "      <td>0</td>\n",
       "      <td>0</td>\n",
       "      <td>0</td>\n",
       "      <td>1</td>\n",
       "      <td>0</td>\n",
       "      <td>0</td>\n",
       "      <td>...</td>\n",
       "      <td>0</td>\n",
       "      <td>0</td>\n",
       "      <td>1</td>\n",
       "      <td>0</td>\n",
       "      <td>1</td>\n",
       "      <td>0</td>\n",
       "      <td>0</td>\n",
       "      <td>0</td>\n",
       "      <td>1</td>\n",
       "      <td>0</td>\n",
       "    </tr>\n",
       "    <tr>\n",
       "      <th>10920</th>\n",
       "      <td>0</td>\n",
       "      <td>0</td>\n",
       "      <td>0</td>\n",
       "      <td>0</td>\n",
       "      <td>0</td>\n",
       "      <td>0</td>\n",
       "      <td>0</td>\n",
       "      <td>1</td>\n",
       "      <td>0</td>\n",
       "      <td>0</td>\n",
       "      <td>...</td>\n",
       "      <td>0</td>\n",
       "      <td>0</td>\n",
       "      <td>1</td>\n",
       "      <td>0</td>\n",
       "      <td>0</td>\n",
       "      <td>0</td>\n",
       "      <td>1</td>\n",
       "      <td>1</td>\n",
       "      <td>0</td>\n",
       "      <td>0</td>\n",
       "    </tr>\n",
       "    <tr>\n",
       "      <th>10921</th>\n",
       "      <td>0</td>\n",
       "      <td>0</td>\n",
       "      <td>0</td>\n",
       "      <td>0</td>\n",
       "      <td>0</td>\n",
       "      <td>0</td>\n",
       "      <td>0</td>\n",
       "      <td>1</td>\n",
       "      <td>0</td>\n",
       "      <td>0</td>\n",
       "      <td>...</td>\n",
       "      <td>0</td>\n",
       "      <td>0</td>\n",
       "      <td>1</td>\n",
       "      <td>0</td>\n",
       "      <td>0</td>\n",
       "      <td>0</td>\n",
       "      <td>1</td>\n",
       "      <td>0</td>\n",
       "      <td>1</td>\n",
       "      <td>0</td>\n",
       "    </tr>\n",
       "    <tr>\n",
       "      <th>10922</th>\n",
       "      <td>0</td>\n",
       "      <td>0</td>\n",
       "      <td>0</td>\n",
       "      <td>0</td>\n",
       "      <td>0</td>\n",
       "      <td>0</td>\n",
       "      <td>0</td>\n",
       "      <td>1</td>\n",
       "      <td>0</td>\n",
       "      <td>0</td>\n",
       "      <td>...</td>\n",
       "      <td>0</td>\n",
       "      <td>0</td>\n",
       "      <td>1</td>\n",
       "      <td>0</td>\n",
       "      <td>0</td>\n",
       "      <td>1</td>\n",
       "      <td>0</td>\n",
       "      <td>1</td>\n",
       "      <td>0</td>\n",
       "      <td>0</td>\n",
       "    </tr>\n",
       "    <tr>\n",
       "      <th>10923</th>\n",
       "      <td>0</td>\n",
       "      <td>0</td>\n",
       "      <td>0</td>\n",
       "      <td>0</td>\n",
       "      <td>0</td>\n",
       "      <td>0</td>\n",
       "      <td>0</td>\n",
       "      <td>1</td>\n",
       "      <td>0</td>\n",
       "      <td>0</td>\n",
       "      <td>...</td>\n",
       "      <td>0</td>\n",
       "      <td>0</td>\n",
       "      <td>1</td>\n",
       "      <td>0</td>\n",
       "      <td>0</td>\n",
       "      <td>1</td>\n",
       "      <td>0</td>\n",
       "      <td>0</td>\n",
       "      <td>1</td>\n",
       "      <td>0</td>\n",
       "    </tr>\n",
       "  </tbody>\n",
       "</table>\n",
       "<p>10924 rows × 201 columns</p>\n",
       "</div>"
      ],
      "text/plain": [
       "       Fiscal Year-2008/09  Fiscal Year-2009/10  Fiscal Year-2010/11  \\\n",
       "0                        0                    0                    0   \n",
       "1                        0                    0                    0   \n",
       "2                        0                    0                    0   \n",
       "3                        0                    0                    0   \n",
       "4                        0                    0                    0   \n",
       "...                    ...                  ...                  ...   \n",
       "10919                    0                    0                    0   \n",
       "10920                    0                    0                    0   \n",
       "10921                    0                    0                    0   \n",
       "10922                    0                    0                    0   \n",
       "10923                    0                    0                    0   \n",
       "\n",
       "       Fiscal Year-2011/12  Fiscal Year-2012/13  Fiscal Year-2013/14  \\\n",
       "0                        0                    0                    0   \n",
       "1                        0                    0                    0   \n",
       "2                        0                    0                    0   \n",
       "3                        0                    0                    0   \n",
       "4                        0                    0                    0   \n",
       "...                    ...                  ...                  ...   \n",
       "10919                    0                    0                    0   \n",
       "10920                    0                    0                    0   \n",
       "10921                    0                    0                    0   \n",
       "10922                    0                    0                    0   \n",
       "10923                    0                    0                    0   \n",
       "\n",
       "       Fiscal Year-2014/15  Fiscal Year-2015/16  Term Type-Fall term  \\\n",
       "0                        0                    1                    1   \n",
       "1                        0                    1                    1   \n",
       "2                        0                    1                    1   \n",
       "3                        0                    1                    1   \n",
       "4                        0                    1                    1   \n",
       "...                    ...                  ...                  ...   \n",
       "10919                    0                    1                    0   \n",
       "10920                    0                    1                    0   \n",
       "10921                    0                    1                    0   \n",
       "10922                    0                    1                    0   \n",
       "10923                    0                    1                    0   \n",
       "\n",
       "       Term Type-Spring term  ...  WorkTerm-Work Term  Attendance-Full-Time  \\\n",
       "0                          0  ...                   0                     1   \n",
       "1                          0  ...                   0                     1   \n",
       "2                          0  ...                   0                     1   \n",
       "3                          0  ...                   0                     1   \n",
       "4                          0  ...                   0                     0   \n",
       "...                      ...  ...                 ...                   ...   \n",
       "10919                      0  ...                   0                     0   \n",
       "10920                      0  ...                   0                     0   \n",
       "10921                      0  ...                   0                     0   \n",
       "10922                      0  ...                   0                     0   \n",
       "10923                      0  ...                   0                     0   \n",
       "\n",
       "       Attendance-Part-Time  Attendance-Unknown Attendance  \\\n",
       "0                         0                              0   \n",
       "1                         0                              0   \n",
       "2                         0                              0   \n",
       "3                         0                              0   \n",
       "4                         1                              0   \n",
       "...                     ...                            ...   \n",
       "10919                     1                              0   \n",
       "10920                     1                              0   \n",
       "10921                     1                              0   \n",
       "10922                     1                              0   \n",
       "10923                     1                              0   \n",
       "\n",
       "       Visa Status-Canadian  Visa Status-International  \\\n",
       "0                         1                          0   \n",
       "1                         1                          0   \n",
       "2                         0                          0   \n",
       "3                         0                          1   \n",
       "4                         1                          0   \n",
       "...                     ...                        ...   \n",
       "10919                     1                          0   \n",
       "10920                     0                          0   \n",
       "10921                     0                          0   \n",
       "10922                     0                          1   \n",
       "10923                     0                          1   \n",
       "\n",
       "       Visa Status-Canadian Permanent Resident  Gender-Male  Gender-Female  \\\n",
       "0                                            0            1              0   \n",
       "1                                            0            0              1   \n",
       "2                                            1            0              1   \n",
       "3                                            0            1              0   \n",
       "4                                            0            0              1   \n",
       "...                                        ...          ...            ...   \n",
       "10919                                        0            0              1   \n",
       "10920                                        1            1              0   \n",
       "10921                                        1            0              1   \n",
       "10922                                        0            1              0   \n",
       "10923                                        0            0              1   \n",
       "\n",
       "       Gender-Another Gender Identity  \n",
       "0                                   0  \n",
       "1                                   0  \n",
       "2                                   0  \n",
       "3                                   0  \n",
       "4                                   0  \n",
       "...                               ...  \n",
       "10919                               0  \n",
       "10920                               0  \n",
       "10921                               0  \n",
       "10922                               0  \n",
       "10923                               0  \n",
       "\n",
       "[10924 rows x 201 columns]"
      ]
     },
     "execution_count": 79,
     "metadata": {},
     "output_type": "execute_result"
    }
   ],
   "source": [
    "test"
   ]
  },
  {
   "cell_type": "markdown",
   "metadata": {},
   "source": [
    "# Now let us analyse the Unique Headcount column of the train dataset\n"
   ]
  },
  {
   "cell_type": "code",
   "execution_count": 80,
   "metadata": {},
   "outputs": [
    {
     "data": {
      "text/plain": [
       "(array([6.9125e+04, 2.1820e+03, 5.9500e+02, 2.5200e+02, 6.3000e+01,\n",
       "        1.6000e+01, 4.0000e+00, 2.0000e+00, 6.0000e+00, 4.0000e+00]),\n",
       " array([  1. ,  39.6,  78.2, 116.8, 155.4, 194. , 232.6, 271.2, 309.8,\n",
       "        348.4, 387. ]),\n",
       " <a list of 10 Patch objects>)"
      ]
     },
     "execution_count": 80,
     "metadata": {},
     "output_type": "execute_result"
    },
    {
     "data": {
      "image/png": "[encoded data removed]",
      "text/plain": [
       "<Figure size 432x288 with 1 Axes>"
      ]
     },
     "metadata": {
      "needs_background": "light"
     },
     "output_type": "display_data"
    }
   ],
   "source": [
    "plt.hist(train[\"Unique Headcount\"])"
   ]
  },
  {
   "cell_type": "code",
   "execution_count": 81,
   "metadata": {},
   "outputs": [
    {
     "data": {
      "text/plain": [
       "count    72249.000000\n",
       "mean         8.337250\n",
       "std         17.263497\n",
       "min          1.000000\n",
       "25%          1.000000\n",
       "50%          3.000000\n",
       "75%          7.000000\n",
       "max        387.000000\n",
       "Name: Unique Headcount, dtype: float64"
      ]
     },
     "execution_count": 81,
     "metadata": {},
     "output_type": "execute_result"
    }
   ],
   "source": [
    "train.describe()[\"Unique Headcount\"]"
   ]
  },
  {
   "cell_type": "markdown",
   "metadata": {},
   "source": [
    "# From this we observe that the Unique Headcount values are heavily skewed towards the left\n",
    "- There are many outliers, this could cause a serious concern while training the model\n",
    "- With a mean of 8, 75% CI at 7 and a maximum value of 387, no model could be expected to fit perfectly to this in a linear fashion\n",
    "- Since the metric is RMSE, a wrong prediction when the value is > the mean+std deviation could cause high shifts in the RMSE of the model"
   ]
  },
  {
   "cell_type": "markdown",
   "metadata": {},
   "source": [
    "# Different approaches\n",
    "## Approach 1\n",
    "- Initially we trained on the entire train dataset, splitting into train and test within the test dataset itself\n",
    "- To start off, lets try regular linear regression\n",
    "- This gives an error of around 15, or in some cases causes the model to go haywire xD\n",
    "- From the scatterplot and distribution plots, we understand that the Linear Regression model is sensitive to outliers and is unable to output values that are greater than 40\n",
    "- Since it is sensitive to outliers Linear Regression is not the right choice"
   ]
  },
  {
   "cell_type": "code",
   "execution_count": 82,
   "metadata": {},
   "outputs": [
    {
     "name": "stdout",
     "output_type": "stream",
     "text": [
      "15.177953967096117\n"
     ]
    }
   ],
   "source": [
    "x = train.drop(\"Unique Headcount\",axis=1)\n",
    "y = train[\"Unique Headcount\"]\n",
    "xtrain,xtest,ytrain,ytest = train_test_split(x,y,shuffle=True,test_size=0.3)\n",
    "lregressor = LinearRegression()\n",
    "lregressor.fit(xtrain,ytrain)\n",
    "preds = lregressor.predict(xtest)\n",
    "mse = mean_squared_error(ytest, preds)\n",
    "rmse = math.sqrt(mse)\n",
    "print(rmse)"
   ]
  },
  {
   "cell_type": "code",
   "execution_count": 83,
   "metadata": {},
   "outputs": [
    {
     "data": {
      "text/plain": [
       "(array([2.0702e+04, 6.4700e+02, 2.0600e+02, 7.8000e+01, 2.8000e+01,\n",
       "        9.0000e+00, 1.0000e+00, 1.0000e+00, 1.0000e+00, 2.0000e+00]),\n",
       " array([  1. ,  38.2,  75.4, 112.6, 149.8, 187. , 224.2, 261.4, 298.6,\n",
       "        335.8, 373. ]),\n",
       " <a list of 10 Patch objects>)"
      ]
     },
     "execution_count": 83,
     "metadata": {},
     "output_type": "execute_result"
    },
    {
     "data": {
      "image/png": "[encoded data removed]",
      "text/plain": [
       "<Figure size 432x288 with 1 Axes>"
      ]
     },
     "metadata": {
      "needs_background": "light"
     },
     "output_type": "display_data"
    }
   ],
   "source": [
    "plt.hist(ytest)"
   ]
  },
  {
   "cell_type": "code",
   "execution_count": 84,
   "metadata": {},
   "outputs": [
    {
     "data": {
      "text/plain": [
       "(array([  50.,  591., 2622., 5300., 6139., 4182., 1728.,  853.,  178.,\n",
       "          32.]),\n",
       " array([-18.8125    , -12.68515625,  -6.5578125 ,  -0.43046875,\n",
       "          5.696875  ,  11.82421875,  17.9515625 ,  24.07890625,\n",
       "         30.20625   ,  36.33359375,  42.4609375 ]),\n",
       " <a list of 10 Patch objects>)"
      ]
     },
     "execution_count": 84,
     "metadata": {},
     "output_type": "execute_result"
    },
    {
     "data": {
      "image/png": "[encoded data removed]",
      "text/plain": [
       "<Figure size 432x288 with 1 Axes>"
      ]
     },
     "metadata": {
      "needs_background": "light"
     },
     "output_type": "display_data"
    }
   ],
   "source": [
    "plt.hist(preds)"
   ]
  },
  {
   "cell_type": "code",
   "execution_count": 85,
   "metadata": {},
   "outputs": [
    {
     "data": {
      "text/plain": [
       "<matplotlib.axes._subplots.AxesSubplot at 0x1d409339908>"
      ]
     },
     "execution_count": 85,
     "metadata": {},
     "output_type": "execute_result"
    },
    {
     "data": {
      "image/png": "[encoded data removed]",
      "text/plain": [
       "<Figure size 432x288 with 1 Axes>"
      ]
     },
     "metadata": {
      "needs_background": "light"
     },
     "output_type": "display_data"
    }
   ],
   "source": [
    "sns.scatterplot(preds,ytest)"
   ]
  },
  {
   "cell_type": "code",
   "execution_count": 86,
   "metadata": {},
   "outputs": [
    {
     "name": "stdout",
     "output_type": "stream",
     "text": [
      "Predictions: \n",
      "Mean = 8.363868223760091\n",
      "Max = 42.4609375\n",
      "Min = -18.8125\n",
      "Std = 8.567320306215997\n"
     ]
    }
   ],
   "source": [
    "print(\"Predictions: \")\n",
    "print(\"Mean =\",np.mean(preds))\n",
    "print(\"Max =\",np.max(preds))\n",
    "print(\"Min =\",np.min(preds))\n",
    "print(\"Std =\",np.std(preds))"
   ]
  },
  {
   "cell_type": "code",
   "execution_count": 87,
   "metadata": {},
   "outputs": [
    {
     "name": "stdout",
     "output_type": "stream",
     "text": [
      "Ytest: \n",
      "Mean = 8.40327566320646\n",
      "Max = 373\n",
      "Min = 1\n",
      "Std = 17.494635813136412\n"
     ]
    }
   ],
   "source": [
    "print(\"Ytest: \")\n",
    "print(\"Mean =\",np.mean(ytest.to_numpy()))\n",
    "print(\"Max =\",np.max(ytest.to_numpy()))\n",
    "print(\"Min =\",np.min(ytest.to_numpy()))\n",
    "print(\"Std =\",np.std(ytest.to_numpy()))"
   ]
  },
  {
   "cell_type": "markdown",
   "metadata": {},
   "source": [
    "### Analysis:\n",
    "- actual vs predicted plot is absolutely not linear and of 45 degrees, indicating this is a bad model\n",
    "- The statistics of ytest and predictions vary significantly, furthering the fact that this is a bad model and a bad fit"
   ]
  },
  {
   "cell_type": "markdown",
   "metadata": {},
   "source": [
    "## Approach 2\n",
    "- Seeing that the values of Unique Headcount are not normalised, this could cause the model to not predict correctly for higher values\n",
    "- So we thought we'd try normalise the Unique Headcount values and then predict using these values\n",
    "- However this doesn't seem to give good results either"
   ]
  },
  {
   "cell_type": "code",
   "execution_count": 88,
   "metadata": {},
   "outputs": [],
   "source": [
    "train_stats_uh = train.describe().transpose()"
   ]
  },
  {
   "cell_type": "code",
   "execution_count": 89,
   "metadata": {},
   "outputs": [],
   "source": [
    "def norm(x):\n",
    "    return (x-train_stats_uh[\"mean\"][\"Unique Headcount\"])/train_stats_uh[\"std\"][\"Unique Headcount\"]\n",
    "train[\"UH\"] = train[\"Unique Headcount\"].apply(lambda x:norm(x))\n",
    "def convert(x):\n",
    "    return x*train_stats_uh[\"std\"][\"Unique Headcount\"]+train_stats_uh[\"mean\"][\"Unique Headcount\"]"
   ]
  },
  {
   "cell_type": "code",
   "execution_count": 90,
   "metadata": {},
   "outputs": [],
   "source": [
    "x = train.drop([\"Unique Headcount\", \"UH\"],axis=1)\n",
    "y = train[\"UH\"]\n",
    "xtrain,xtest,ytrain,ytest = train_test_split(x,y,shuffle=True,test_size=0.3)\n",
    "lregressor = LinearRegression()\n",
    "lregressor.fit(xtrain,ytrain)\n",
    "preds = lregressor.predict(xtest)"
   ]
  },
  {
   "cell_type": "code",
   "execution_count": 91,
   "metadata": {},
   "outputs": [
    {
     "name": "stdout",
     "output_type": "stream",
     "text": [
      "14.704512826416654\n"
     ]
    }
   ],
   "source": [
    "df = pd.DataFrame(ytest)\n",
    "df[\"preds\"] = preds\n",
    "df[\"Unique Headcount\"] = df[\"UH\"].apply(lambda x:convert(x))\n",
    "df[\"preds\"] = df[\"preds\"].apply(lambda x:convert(x))\n",
    "mse = mean_squared_error(df[\"preds\"],df[\"Unique Headcount\"])\n",
    "rmse = math.sqrt(mse)\n",
    "print(rmse)"
   ]
  },
  {
   "cell_type": "code",
   "execution_count": 92,
   "metadata": {},
   "outputs": [
    {
     "data": {
      "text/plain": [
       "<matplotlib.axes._subplots.AxesSubplot at 0x1d4093b1e48>"
      ]
     },
     "execution_count": 92,
     "metadata": {},
     "output_type": "execute_result"
    },
    {
     "data": {
      "image/png": "[encoded data removed]",
      "text/plain": [
       "<Figure size 432x288 with 1 Axes>"
      ]
     },
     "metadata": {
      "needs_background": "light"
     },
     "output_type": "display_data"
    }
   ],
   "source": [
    "sns.scatterplot(df[\"preds\"],df[\"Unique Headcount\"])"
   ]
  },
  {
   "cell_type": "code",
   "execution_count": 93,
   "metadata": {},
   "outputs": [
    {
     "name": "stdout",
     "output_type": "stream",
     "text": [
      "Predictions: \n"
     ]
    },
    {
     "data": {
      "text/plain": [
       "count    21675.000000\n",
       "mean         8.241374\n",
       "std          8.566191\n",
       "min        -23.357451\n",
       "25%          2.099463\n",
       "50%          7.932637\n",
       "75%         13.445492\n",
       "max         42.577643\n",
       "Name: preds, dtype: float64"
      ]
     },
     "execution_count": 93,
     "metadata": {},
     "output_type": "execute_result"
    }
   ],
   "source": [
    "print(\"Predictions: \")\n",
    "df[\"preds\"].describe()"
   ]
  },
  {
   "cell_type": "code",
   "execution_count": 94,
   "metadata": {},
   "outputs": [
    {
     "name": "stdout",
     "output_type": "stream",
     "text": [
      "Ytest: \n"
     ]
    },
    {
     "data": {
      "text/plain": [
       "count    21675.000000\n",
       "mean         8.368720\n",
       "std         17.031187\n",
       "min          1.000000\n",
       "25%          1.000000\n",
       "50%          3.000000\n",
       "75%          7.000000\n",
       "max        343.000000\n",
       "Name: Unique Headcount, dtype: float64"
      ]
     },
     "execution_count": 94,
     "metadata": {},
     "output_type": "execute_result"
    }
   ],
   "source": [
    "print(\"Ytest: \")\n",
    "df[\"Unique Headcount\"].describe()"
   ]
  },
  {
   "cell_type": "markdown",
   "metadata": {},
   "source": [
    "### Analysis:\n",
    "- The actual vs predicted plot is heavily scattered and not in a proper line\n",
    "- The statistics of ytest and preds vary significantly\n",
    "- Thus this is a bad model for the given data"
   ]
  },
  {
   "cell_type": "markdown",
   "metadata": {},
   "source": [
    "## Approach 3\n",
    "- Tree algorithms like decision trees and random forests are robust to outliers. \n",
    "- Here we have experimented with the RandomForestRegressor with 100 estimators"
   ]
  },
  {
   "cell_type": "code",
   "execution_count": 95,
   "metadata": {},
   "outputs": [
    {
     "name": "stderr",
     "output_type": "stream",
     "text": [
      "[Parallel(n_jobs=1)]: Using backend SequentialBackend with 1 concurrent workers.\n",
      "[Parallel(n_jobs=1)]: Done 100 out of 100 | elapsed:  2.9min finished\n",
      "[Parallel(n_jobs=1)]: Using backend SequentialBackend with 1 concurrent workers.\n"
     ]
    },
    {
     "name": "stdout",
     "output_type": "stream",
     "text": [
      "5.456960057187879\n"
     ]
    },
    {
     "name": "stderr",
     "output_type": "stream",
     "text": [
      "[Parallel(n_jobs=1)]: Done 100 out of 100 | elapsed:    1.0s finished\n"
     ]
    }
   ],
   "source": [
    "x = train.drop([\"Unique Headcount\",\"UH\"],axis=1)\n",
    "y = train[\"Unique Headcount\"]\n",
    "xtrain,xtest,ytrain,ytest = train_test_split(x,y,shuffle=True,test_size=0.3)\n",
    "rfregressor = RandomForestRegressor(n_estimators=100,verbose=1)\n",
    "rfregressor.fit(xtrain,ytrain)\n",
    "preds = rfregressor.predict(xtest)\n",
    "mse = mean_squared_error(ytest, preds)\n",
    "rmse = math.sqrt(mse)\n",
    "print(rmse)"
   ]
  },
  {
   "cell_type": "code",
   "execution_count": 96,
   "metadata": {},
   "outputs": [
    {
     "data": {
      "text/plain": [
       "(array([2.0718e+04, 6.8700e+02, 1.7100e+02, 6.8000e+01, 2.0000e+01,\n",
       "        6.0000e+00, 0.0000e+00, 0.0000e+00, 3.0000e+00, 2.0000e+00]),\n",
       " array([  1. ,  39.6,  78.2, 116.8, 155.4, 194. , 232.6, 271.2, 309.8,\n",
       "        348.4, 387. ]),\n",
       " <a list of 10 Patch objects>)"
      ]
     },
     "execution_count": 96,
     "metadata": {},
     "output_type": "execute_result"
    },
    {
     "data": {
      "image/png": "[encoded data removed]",
      "text/plain": [
       "<Figure size 432x288 with 1 Axes>"
      ]
     },
     "metadata": {
      "needs_background": "light"
     },
     "output_type": "display_data"
    }
   ],
   "source": [
    "plt.hist(ytest)"
   ]
  },
  {
   "cell_type": "code",
   "execution_count": 97,
   "metadata": {},
   "outputs": [
    {
     "data": {
      "text/plain": [
       "(array([2.0664e+04, 6.9100e+02, 2.2200e+02, 6.9000e+01, 1.8000e+01,\n",
       "        4.0000e+00, 1.0000e+00, 1.0000e+00, 0.0000e+00, 5.0000e+00]),\n",
       " array([  1.   ,  37.018,  73.036, 109.054, 145.072, 181.09 , 217.108,\n",
       "        253.126, 289.144, 325.162, 361.18 ]),\n",
       " <a list of 10 Patch objects>)"
      ]
     },
     "execution_count": 97,
     "metadata": {},
     "output_type": "execute_result"
    },
    {
     "data": {
      "image/png": "[encoded data removed]",
      "text/plain": [
       "<Figure size 432x288 with 1 Axes>"
      ]
     },
     "metadata": {
      "needs_background": "light"
     },
     "output_type": "display_data"
    }
   ],
   "source": [
    "plt.hist(preds)"
   ]
  },
  {
   "cell_type": "code",
   "execution_count": 98,
   "metadata": {},
   "outputs": [
    {
     "data": {
      "text/plain": [
       "<matplotlib.axes._subplots.AxesSubplot at 0x1d409336548>"
      ]
     },
     "execution_count": 98,
     "metadata": {},
     "output_type": "execute_result"
    },
    {
     "data": {
      "image/png": "[encoded data removed]",
      "text/plain": [
       "<Figure size 432x288 with 1 Axes>"
      ]
     },
     "metadata": {
      "needs_background": "light"
     },
     "output_type": "display_data"
    }
   ],
   "source": [
    "sns.scatterplot(preds,ytest)"
   ]
  },
  {
   "cell_type": "code",
   "execution_count": 99,
   "metadata": {},
   "outputs": [
    {
     "name": "stdout",
     "output_type": "stream",
     "text": [
      "Predictions: \n",
      "Mean = 8.487280276816609\n",
      "Max = 361.18\n",
      "Min = 1.0\n",
      "Std = 16.6851654566191\n"
     ]
    }
   ],
   "source": [
    "print(\"Predictions: \")\n",
    "print(\"Mean =\",np.mean(preds))\n",
    "print(\"Max =\",np.max(preds))\n",
    "print(\"Min =\",np.min(preds))\n",
    "print(\"Std =\",np.std(preds))"
   ]
  },
  {
   "cell_type": "code",
   "execution_count": 100,
   "metadata": {},
   "outputs": [
    {
     "name": "stdout",
     "output_type": "stream",
     "text": [
      "Ytest: \n",
      "Mean = 8.305467128027681\n",
      "Max = 387\n",
      "Min = 1\n",
      "Std = 17.310095996201415\n"
     ]
    }
   ],
   "source": [
    "print(\"Ytest: \")\n",
    "print(\"Mean =\",np.mean(ytest.to_numpy()))\n",
    "print(\"Max =\",np.max(ytest.to_numpy()))\n",
    "print(\"Min =\",np.min(ytest.to_numpy()))\n",
    "print(\"Std =\",np.std(ytest.to_numpy()))"
   ]
  },
  {
   "cell_type": "markdown",
   "metadata": {},
   "source": [
    "### Analysis:\n",
    "- The actual vs predicted plot shows a linear graph, however it has high variability, which can be improved\n",
    "- This model is robust to outliers\n",
    "- A low error indicates this is a decent model to use"
   ]
  },
  {
   "cell_type": "markdown",
   "metadata": {},
   "source": [
    "## Approach 4\n",
    "- We assign different categories to the samples, hoping it will learn to better fit the data provided\n",
    "- Additionally we also tried using Principle Components of the dataset, since 200 columns can be a bit too much for any model"
   ]
  },
  {
   "cell_type": "code",
   "execution_count": 101,
   "metadata": {},
   "outputs": [],
   "source": [
    "def assign_cat(x):\n",
    "    if x<=10:\n",
    "        return \"uh<=10\"\n",
    "    if x<=25:\n",
    "        return \"10<uh<=25\"\n",
    "    else:\n",
    "        return \"uh>25\""
   ]
  },
  {
   "cell_type": "code",
   "execution_count": 102,
   "metadata": {},
   "outputs": [
    {
     "data": {
      "text/html": [
       "<div>\n",
       "<style scoped>\n",
       "    .dataframe tbody tr th:only-of-type {\n",
       "        vertical-align: middle;\n",
       "    }\n",
       "\n",
       "    .dataframe tbody tr th {\n",
       "        vertical-align: top;\n",
       "    }\n",
       "\n",
       "    .dataframe thead th {\n",
       "        text-align: right;\n",
       "    }\n",
       "</style>\n",
       "<table border=\"1\" class=\"dataframe\">\n",
       "  <thead>\n",
       "    <tr style=\"text-align: right;\">\n",
       "      <th></th>\n",
       "      <th>Fiscal Year-2008/09</th>\n",
       "      <th>Fiscal Year-2009/10</th>\n",
       "      <th>Fiscal Year-2010/11</th>\n",
       "      <th>Fiscal Year-2011/12</th>\n",
       "      <th>Fiscal Year-2012/13</th>\n",
       "      <th>Fiscal Year-2013/14</th>\n",
       "      <th>Fiscal Year-2014/15</th>\n",
       "      <th>Fiscal Year-2015/16</th>\n",
       "      <th>Term Type-Fall term</th>\n",
       "      <th>Term Type-Spring term</th>\n",
       "      <th>...</th>\n",
       "      <th>Attendance-Part-Time</th>\n",
       "      <th>Attendance-Unknown Attendance</th>\n",
       "      <th>Visa Status-Canadian</th>\n",
       "      <th>Visa Status-International</th>\n",
       "      <th>Visa Status-Canadian Permanent Resident</th>\n",
       "      <th>Gender-Male</th>\n",
       "      <th>Gender-Female</th>\n",
       "      <th>Gender-Another Gender Identity</th>\n",
       "      <th>Unique Headcount</th>\n",
       "      <th>UH</th>\n",
       "    </tr>\n",
       "  </thead>\n",
       "  <tbody>\n",
       "    <tr>\n",
       "      <th>0</th>\n",
       "      <td>1</td>\n",
       "      <td>0</td>\n",
       "      <td>0</td>\n",
       "      <td>0</td>\n",
       "      <td>0</td>\n",
       "      <td>0</td>\n",
       "      <td>0</td>\n",
       "      <td>0</td>\n",
       "      <td>1</td>\n",
       "      <td>0</td>\n",
       "      <td>...</td>\n",
       "      <td>0</td>\n",
       "      <td>0</td>\n",
       "      <td>1</td>\n",
       "      <td>0</td>\n",
       "      <td>0</td>\n",
       "      <td>1</td>\n",
       "      <td>0</td>\n",
       "      <td>0</td>\n",
       "      <td>5</td>\n",
       "      <td>-0.193313</td>\n",
       "    </tr>\n",
       "    <tr>\n",
       "      <th>1</th>\n",
       "      <td>1</td>\n",
       "      <td>0</td>\n",
       "      <td>0</td>\n",
       "      <td>0</td>\n",
       "      <td>0</td>\n",
       "      <td>0</td>\n",
       "      <td>0</td>\n",
       "      <td>0</td>\n",
       "      <td>1</td>\n",
       "      <td>0</td>\n",
       "      <td>...</td>\n",
       "      <td>0</td>\n",
       "      <td>0</td>\n",
       "      <td>1</td>\n",
       "      <td>0</td>\n",
       "      <td>0</td>\n",
       "      <td>0</td>\n",
       "      <td>1</td>\n",
       "      <td>0</td>\n",
       "      <td>7</td>\n",
       "      <td>-0.077461</td>\n",
       "    </tr>\n",
       "    <tr>\n",
       "      <th>2</th>\n",
       "      <td>1</td>\n",
       "      <td>0</td>\n",
       "      <td>0</td>\n",
       "      <td>0</td>\n",
       "      <td>0</td>\n",
       "      <td>0</td>\n",
       "      <td>0</td>\n",
       "      <td>0</td>\n",
       "      <td>1</td>\n",
       "      <td>0</td>\n",
       "      <td>...</td>\n",
       "      <td>0</td>\n",
       "      <td>0</td>\n",
       "      <td>0</td>\n",
       "      <td>1</td>\n",
       "      <td>0</td>\n",
       "      <td>0</td>\n",
       "      <td>1</td>\n",
       "      <td>0</td>\n",
       "      <td>1</td>\n",
       "      <td>-0.425015</td>\n",
       "    </tr>\n",
       "    <tr>\n",
       "      <th>3</th>\n",
       "      <td>1</td>\n",
       "      <td>0</td>\n",
       "      <td>0</td>\n",
       "      <td>0</td>\n",
       "      <td>0</td>\n",
       "      <td>0</td>\n",
       "      <td>0</td>\n",
       "      <td>0</td>\n",
       "      <td>1</td>\n",
       "      <td>0</td>\n",
       "      <td>...</td>\n",
       "      <td>0</td>\n",
       "      <td>0</td>\n",
       "      <td>1</td>\n",
       "      <td>0</td>\n",
       "      <td>0</td>\n",
       "      <td>1</td>\n",
       "      <td>0</td>\n",
       "      <td>0</td>\n",
       "      <td>3</td>\n",
       "      <td>-0.309164</td>\n",
       "    </tr>\n",
       "    <tr>\n",
       "      <th>4</th>\n",
       "      <td>1</td>\n",
       "      <td>0</td>\n",
       "      <td>0</td>\n",
       "      <td>0</td>\n",
       "      <td>0</td>\n",
       "      <td>0</td>\n",
       "      <td>0</td>\n",
       "      <td>0</td>\n",
       "      <td>1</td>\n",
       "      <td>0</td>\n",
       "      <td>...</td>\n",
       "      <td>0</td>\n",
       "      <td>0</td>\n",
       "      <td>1</td>\n",
       "      <td>0</td>\n",
       "      <td>0</td>\n",
       "      <td>0</td>\n",
       "      <td>1</td>\n",
       "      <td>0</td>\n",
       "      <td>11</td>\n",
       "      <td>0.154242</td>\n",
       "    </tr>\n",
       "    <tr>\n",
       "      <th>...</th>\n",
       "      <td>...</td>\n",
       "      <td>...</td>\n",
       "      <td>...</td>\n",
       "      <td>...</td>\n",
       "      <td>...</td>\n",
       "      <td>...</td>\n",
       "      <td>...</td>\n",
       "      <td>...</td>\n",
       "      <td>...</td>\n",
       "      <td>...</td>\n",
       "      <td>...</td>\n",
       "      <td>...</td>\n",
       "      <td>...</td>\n",
       "      <td>...</td>\n",
       "      <td>...</td>\n",
       "      <td>...</td>\n",
       "      <td>...</td>\n",
       "      <td>...</td>\n",
       "      <td>...</td>\n",
       "      <td>...</td>\n",
       "      <td>...</td>\n",
       "    </tr>\n",
       "    <tr>\n",
       "      <th>72244</th>\n",
       "      <td>0</td>\n",
       "      <td>0</td>\n",
       "      <td>0</td>\n",
       "      <td>0</td>\n",
       "      <td>0</td>\n",
       "      <td>0</td>\n",
       "      <td>1</td>\n",
       "      <td>0</td>\n",
       "      <td>0</td>\n",
       "      <td>0</td>\n",
       "      <td>...</td>\n",
       "      <td>1</td>\n",
       "      <td>0</td>\n",
       "      <td>1</td>\n",
       "      <td>0</td>\n",
       "      <td>0</td>\n",
       "      <td>1</td>\n",
       "      <td>0</td>\n",
       "      <td>0</td>\n",
       "      <td>25</td>\n",
       "      <td>0.965201</td>\n",
       "    </tr>\n",
       "    <tr>\n",
       "      <th>72245</th>\n",
       "      <td>0</td>\n",
       "      <td>0</td>\n",
       "      <td>0</td>\n",
       "      <td>0</td>\n",
       "      <td>0</td>\n",
       "      <td>0</td>\n",
       "      <td>1</td>\n",
       "      <td>0</td>\n",
       "      <td>0</td>\n",
       "      <td>0</td>\n",
       "      <td>...</td>\n",
       "      <td>1</td>\n",
       "      <td>0</td>\n",
       "      <td>1</td>\n",
       "      <td>0</td>\n",
       "      <td>0</td>\n",
       "      <td>0</td>\n",
       "      <td>1</td>\n",
       "      <td>0</td>\n",
       "      <td>27</td>\n",
       "      <td>1.081053</td>\n",
       "    </tr>\n",
       "    <tr>\n",
       "      <th>72246</th>\n",
       "      <td>0</td>\n",
       "      <td>0</td>\n",
       "      <td>0</td>\n",
       "      <td>0</td>\n",
       "      <td>0</td>\n",
       "      <td>0</td>\n",
       "      <td>1</td>\n",
       "      <td>0</td>\n",
       "      <td>0</td>\n",
       "      <td>0</td>\n",
       "      <td>...</td>\n",
       "      <td>1</td>\n",
       "      <td>0</td>\n",
       "      <td>0</td>\n",
       "      <td>0</td>\n",
       "      <td>1</td>\n",
       "      <td>0</td>\n",
       "      <td>1</td>\n",
       "      <td>0</td>\n",
       "      <td>1</td>\n",
       "      <td>-0.425015</td>\n",
       "    </tr>\n",
       "    <tr>\n",
       "      <th>72247</th>\n",
       "      <td>0</td>\n",
       "      <td>0</td>\n",
       "      <td>0</td>\n",
       "      <td>0</td>\n",
       "      <td>0</td>\n",
       "      <td>0</td>\n",
       "      <td>1</td>\n",
       "      <td>0</td>\n",
       "      <td>0</td>\n",
       "      <td>0</td>\n",
       "      <td>...</td>\n",
       "      <td>1</td>\n",
       "      <td>0</td>\n",
       "      <td>0</td>\n",
       "      <td>1</td>\n",
       "      <td>0</td>\n",
       "      <td>1</td>\n",
       "      <td>0</td>\n",
       "      <td>0</td>\n",
       "      <td>30</td>\n",
       "      <td>1.254830</td>\n",
       "    </tr>\n",
       "    <tr>\n",
       "      <th>72248</th>\n",
       "      <td>0</td>\n",
       "      <td>0</td>\n",
       "      <td>0</td>\n",
       "      <td>0</td>\n",
       "      <td>0</td>\n",
       "      <td>0</td>\n",
       "      <td>1</td>\n",
       "      <td>0</td>\n",
       "      <td>0</td>\n",
       "      <td>0</td>\n",
       "      <td>...</td>\n",
       "      <td>1</td>\n",
       "      <td>0</td>\n",
       "      <td>0</td>\n",
       "      <td>1</td>\n",
       "      <td>0</td>\n",
       "      <td>0</td>\n",
       "      <td>1</td>\n",
       "      <td>0</td>\n",
       "      <td>18</td>\n",
       "      <td>0.559721</td>\n",
       "    </tr>\n",
       "  </tbody>\n",
       "</table>\n",
       "<p>72249 rows × 203 columns</p>\n",
       "</div>"
      ],
      "text/plain": [
       "       Fiscal Year-2008/09  Fiscal Year-2009/10  Fiscal Year-2010/11  \\\n",
       "0                        1                    0                    0   \n",
       "1                        1                    0                    0   \n",
       "2                        1                    0                    0   \n",
       "3                        1                    0                    0   \n",
       "4                        1                    0                    0   \n",
       "...                    ...                  ...                  ...   \n",
       "72244                    0                    0                    0   \n",
       "72245                    0                    0                    0   \n",
       "72246                    0                    0                    0   \n",
       "72247                    0                    0                    0   \n",
       "72248                    0                    0                    0   \n",
       "\n",
       "       Fiscal Year-2011/12  Fiscal Year-2012/13  Fiscal Year-2013/14  \\\n",
       "0                        0                    0                    0   \n",
       "1                        0                    0                    0   \n",
       "2                        0                    0                    0   \n",
       "3                        0                    0                    0   \n",
       "4                        0                    0                    0   \n",
       "...                    ...                  ...                  ...   \n",
       "72244                    0                    0                    0   \n",
       "72245                    0                    0                    0   \n",
       "72246                    0                    0                    0   \n",
       "72247                    0                    0                    0   \n",
       "72248                    0                    0                    0   \n",
       "\n",
       "       Fiscal Year-2014/15  Fiscal Year-2015/16  Term Type-Fall term  \\\n",
       "0                        0                    0                    1   \n",
       "1                        0                    0                    1   \n",
       "2                        0                    0                    1   \n",
       "3                        0                    0                    1   \n",
       "4                        0                    0                    1   \n",
       "...                    ...                  ...                  ...   \n",
       "72244                    1                    0                    0   \n",
       "72245                    1                    0                    0   \n",
       "72246                    1                    0                    0   \n",
       "72247                    1                    0                    0   \n",
       "72248                    1                    0                    0   \n",
       "\n",
       "       Term Type-Spring term  ...  Attendance-Part-Time  \\\n",
       "0                          0  ...                     0   \n",
       "1                          0  ...                     0   \n",
       "2                          0  ...                     0   \n",
       "3                          0  ...                     0   \n",
       "4                          0  ...                     0   \n",
       "...                      ...  ...                   ...   \n",
       "72244                      0  ...                     1   \n",
       "72245                      0  ...                     1   \n",
       "72246                      0  ...                     1   \n",
       "72247                      0  ...                     1   \n",
       "72248                      0  ...                     1   \n",
       "\n",
       "       Attendance-Unknown Attendance  Visa Status-Canadian  \\\n",
       "0                                  0                     1   \n",
       "1                                  0                     1   \n",
       "2                                  0                     0   \n",
       "3                                  0                     1   \n",
       "4                                  0                     1   \n",
       "...                              ...                   ...   \n",
       "72244                              0                     1   \n",
       "72245                              0                     1   \n",
       "72246                              0                     0   \n",
       "72247                              0                     0   \n",
       "72248                              0                     0   \n",
       "\n",
       "       Visa Status-International  Visa Status-Canadian Permanent Resident  \\\n",
       "0                              0                                        0   \n",
       "1                              0                                        0   \n",
       "2                              1                                        0   \n",
       "3                              0                                        0   \n",
       "4                              0                                        0   \n",
       "...                          ...                                      ...   \n",
       "72244                          0                                        0   \n",
       "72245                          0                                        0   \n",
       "72246                          0                                        1   \n",
       "72247                          1                                        0   \n",
       "72248                          1                                        0   \n",
       "\n",
       "       Gender-Male  Gender-Female  Gender-Another Gender Identity  \\\n",
       "0                1              0                               0   \n",
       "1                0              1                               0   \n",
       "2                0              1                               0   \n",
       "3                1              0                               0   \n",
       "4                0              1                               0   \n",
       "...            ...            ...                             ...   \n",
       "72244            1              0                               0   \n",
       "72245            0              1                               0   \n",
       "72246            0              1                               0   \n",
       "72247            1              0                               0   \n",
       "72248            0              1                               0   \n",
       "\n",
       "       Unique Headcount        UH  \n",
       "0                     5 -0.193313  \n",
       "1                     7 -0.077461  \n",
       "2                     1 -0.425015  \n",
       "3                     3 -0.309164  \n",
       "4                    11  0.154242  \n",
       "...                 ...       ...  \n",
       "72244                25  0.965201  \n",
       "72245                27  1.081053  \n",
       "72246                 1 -0.425015  \n",
       "72247                30  1.254830  \n",
       "72248                18  0.559721  \n",
       "\n",
       "[72249 rows x 203 columns]"
      ]
     },
     "execution_count": 102,
     "metadata": {},
     "output_type": "execute_result"
    }
   ],
   "source": [
    "train"
   ]
  },
  {
   "cell_type": "code",
   "execution_count": 103,
   "metadata": {},
   "outputs": [],
   "source": [
    "train[\"Category\"] = train[\"Unique Headcount\"].apply(lambda x:assign_cat(x))"
   ]
  },
  {
   "cell_type": "code",
   "execution_count": 104,
   "metadata": {},
   "outputs": [
    {
     "name": "stdout",
     "output_type": "stream",
     "text": [
      "[[17376   283    69]\n",
      " [  952  1227   168]\n",
      " [   65   200  1335]]\n",
      "              precision    recall  f1-score   support\n",
      "\n",
      "   10<uh<=25       0.72      0.52      0.60      2347\n",
      "      uh<=10       0.94      0.98      0.96     17728\n",
      "       uh>25       0.85      0.83      0.84      1600\n",
      "\n",
      "    accuracy                           0.92     21675\n",
      "   macro avg       0.84      0.78      0.80     21675\n",
      "weighted avg       0.91      0.92      0.91     21675\n",
      "\n",
      "0.9198615916955017\n"
     ]
    }
   ],
   "source": [
    "x = train.drop([\"Unique Headcount\",\"UH\",\"Category\"],axis=1)\n",
    "y = train[[\"Unique Headcount\",\"Category\"]]\n",
    "xtrain,xtest,ytrain,ytest = train_test_split(x,y,shuffle=True,test_size=0.3)\n",
    "rfclassifier = RandomForestClassifier(n_estimators=300)\n",
    "rfclassifier.fit(xtrain,ytrain[\"Category\"])\n",
    "rfy_pred = rfclassifier.predict(xtest)\n",
    "print(confusion_matrix(ytest[\"Category\"], rfy_pred,labels = ['uh<=10','10<uh<=25','uh>25']))\n",
    "print(classification_report(ytest[\"Category\"], rfy_pred))\n",
    "print(accuracy_score(ytest[\"Category\"], rfy_pred))"
   ]
  },
  {
   "cell_type": "code",
   "execution_count": 105,
   "metadata": {},
   "outputs": [],
   "source": [
    " def train_model(xtrain,ytrain,i):\n",
    "    rf = RandomForestRegressor(n_estimators=100*i)\n",
    "    rf.fit(xtrain,ytrain)\n",
    "    predictions_train = rf.predict(xtrain)\n",
    "    return rf"
   ]
  },
  {
   "cell_type": "code",
   "execution_count": 106,
   "metadata": {},
   "outputs": [
    {
     "name": "stderr",
     "output_type": "stream",
     "text": [
      "C:\\Users\\Andrea Solomon\\anaconda3\\lib\\site-packages\\ipykernel_launcher.py:1: SettingWithCopyWarning: \n",
      "A value is trying to be set on a copy of a slice from a DataFrame.\n",
      "Try using .loc[row_indexer,col_indexer] = value instead\n",
      "\n",
      "See the caveats in the documentation: https://pandas.pydata.org/pandas-docs/stable/user_guide/indexing.html#returning-a-view-versus-a-copy\n",
      "  \"\"\"Entry point for launching an IPython kernel.\n",
      "C:\\Users\\Andrea Solomon\\anaconda3\\lib\\site-packages\\ipykernel_launcher.py:2: SettingWithCopyWarning: \n",
      "A value is trying to be set on a copy of a slice from a DataFrame.\n",
      "Try using .loc[row_indexer,col_indexer] = value instead\n",
      "\n",
      "See the caveats in the documentation: https://pandas.pydata.org/pandas-docs/stable/user_guide/indexing.html#returning-a-view-versus-a-copy\n",
      "  \n"
     ]
    }
   ],
   "source": [
    "xtrain[\"cat\"] = ytrain[\"Category\"]\n",
    "xtrain[\"uh\"] = ytrain[\"Unique Headcount\"]\n",
    "xtrain1 = xtrain[xtrain['uh']<=10]\n",
    "ytrain1 = xtrain1[\"uh\"]\n",
    "xtrain1 = xtrain1.drop(['cat',\"uh\"],axis=1)\n",
    "xtrain2 = xtrain[xtrain['uh']<=25]\n",
    "xtrain2 = xtrain2[xtrain2['uh']>10]\n",
    "ytrain2 = xtrain2[\"uh\"]\n",
    "xtrain2 = xtrain2.drop(['cat',\"uh\"],axis=1)\n",
    "xtrain3 = xtrain[xtrain['uh']>25]\n",
    "ytrain3 = xtrain3[\"uh\"]\n",
    "xtrain3 = xtrain3.drop(['cat',\"uh\"],axis=1)"
   ]
  },
  {
   "cell_type": "code",
   "execution_count": 107,
   "metadata": {},
   "outputs": [],
   "source": [
    "model1 = train_model(xtrain1,ytrain1,1)\n",
    "model2 = train_model(xtrain2,ytrain2,2)\n",
    "model3 = train_model(xtrain3,ytrain3,3)"
   ]
  },
  {
   "cell_type": "code",
   "execution_count": 131,
   "metadata": {},
   "outputs": [],
   "source": [
    "count = 0\n",
    "def predict(x):\n",
    "    global count\n",
    "    if(count%1000==0):\n",
    "        print(count)\n",
    "    count+=1\n",
    "    cat = x.get(key=\"Category\")\n",
    "#     x = np.squeeze(np.array(x[:-1]))\n",
    "#     x = np.reshape(x,(1,-1))\n",
    "    x = train[x.name:x.name+1]\n",
    "    print(\"Actual: \", x[\"Category\"],x[\"Unique Headcount\"])\n",
    "    print(\"Predicted: \",model1.predict(x)[0],model2.predict(x)[0],model3.predict(x)[0])\n",
    "    x = x.drop([\"Category\",\"UH\",\"Unique Headcount\"],axis=1)\n",
    "    if cat=='uh<=10':\n",
    "        return model1.predict(x)[0]\n",
    "    if cat=='10<uh<=25':\n",
    "        return model2.predict(x)[0] \n",
    "    if cat=='uh>25':\n",
    "        return model3.predict(x)[0] \n",
    "    return 1"
   ]
  },
  {
   "cell_type": "code",
   "execution_count": 109,
   "metadata": {},
   "outputs": [
    {
     "name": "stderr",
     "output_type": "stream",
     "text": [
      "C:\\Users\\Andrea Solomon\\anaconda3\\lib\\site-packages\\ipykernel_launcher.py:1: SettingWithCopyWarning: \n",
      "A value is trying to be set on a copy of a slice from a DataFrame.\n",
      "Try using .loc[row_indexer,col_indexer] = value instead\n",
      "\n",
      "See the caveats in the documentation: https://pandas.pydata.org/pandas-docs/stable/user_guide/indexing.html#returning-a-view-versus-a-copy\n",
      "  \"\"\"Entry point for launching an IPython kernel.\n"
     ]
    },
    {
     "name": "stdout",
     "output_type": "stream",
     "text": [
      "0\n",
      "1000\n",
      "2000\n",
      "3000\n",
      "4000\n",
      "5000\n",
      "6000\n",
      "7000\n",
      "8000\n",
      "9000\n",
      "10000\n",
      "11000\n",
      "12000\n",
      "13000\n",
      "14000\n",
      "15000\n",
      "16000\n",
      "17000\n",
      "18000\n",
      "19000\n",
      "20000\n",
      "21000\n"
     ]
    },
    {
     "name": "stderr",
     "output_type": "stream",
     "text": [
      "C:\\Users\\Andrea Solomon\\anaconda3\\lib\\site-packages\\ipykernel_launcher.py:2: SettingWithCopyWarning: \n",
      "A value is trying to be set on a copy of a slice from a DataFrame.\n",
      "Try using .loc[row_indexer,col_indexer] = value instead\n",
      "\n",
      "See the caveats in the documentation: https://pandas.pydata.org/pandas-docs/stable/user_guide/indexing.html#returning-a-view-versus-a-copy\n",
      "  \n"
     ]
    }
   ],
   "source": [
    "xtest[\"Category\"] = rfy_pred\n",
    "xtest[\"Unique Headcount\"] = xtest.apply(lambda x: predict(x),axis=1)"
   ]
  },
  {
   "cell_type": "code",
   "execution_count": 110,
   "metadata": {},
   "outputs": [
    {
     "name": "stdout",
     "output_type": "stream",
     "text": [
      "6.005914969674939\n"
     ]
    }
   ],
   "source": [
    "mse = mean_squared_error(xtest[\"Unique Headcount\"],ytest[\"Unique Headcount\"])\n",
    "rmse = math.sqrt(mse)\n",
    "print(rmse)"
   ]
  },
  {
   "cell_type": "code",
   "execution_count": 111,
   "metadata": {},
   "outputs": [
    {
     "data": {
      "text/plain": [
       "<matplotlib.axes._subplots.AxesSubplot at 0x1d407d57948>"
      ]
     },
     "execution_count": 111,
     "metadata": {},
     "output_type": "execute_result"
    },
    {
     "data": {
      "image/png": "[encoded data removed]",
      "text/plain": [
       "<Figure size 432x288 with 1 Axes>"
      ]
     },
     "metadata": {
      "needs_background": "light"
     },
     "output_type": "display_data"
    }
   ],
   "source": [
    "sns.scatterplot(xtest[\"Unique Headcount\"],ytest[\"Unique Headcount\"])"
   ]
  },
  {
   "cell_type": "code",
   "execution_count": 112,
   "metadata": {},
   "outputs": [
    {
     "name": "stdout",
     "output_type": "stream",
     "text": [
      "Predictions: \n"
     ]
    },
    {
     "data": {
      "text/plain": [
       "count    21675.000000\n",
       "mean         8.141014\n",
       "std         16.712006\n",
       "min          1.000000\n",
       "25%          1.560000\n",
       "50%          2.840000\n",
       "75%          6.090000\n",
       "max        343.250000\n",
       "Name: Unique Headcount, dtype: float64"
      ]
     },
     "execution_count": 112,
     "metadata": {},
     "output_type": "execute_result"
    }
   ],
   "source": [
    "print(\"Predictions: \")\n",
    "xtest[\"Unique Headcount\"].describe()"
   ]
  },
  {
   "cell_type": "code",
   "execution_count": 113,
   "metadata": {},
   "outputs": [
    {
     "name": "stdout",
     "output_type": "stream",
     "text": [
      "Ytest: \n"
     ]
    },
    {
     "data": {
      "text/plain": [
       "count    21675.000000\n",
       "mean         8.244475\n",
       "std         16.847458\n",
       "min          1.000000\n",
       "25%          1.000000\n",
       "50%          3.000000\n",
       "75%          7.000000\n",
       "max        371.000000\n",
       "Name: Unique Headcount, dtype: float64"
      ]
     },
     "execution_count": 113,
     "metadata": {},
     "output_type": "execute_result"
    }
   ],
   "source": [
    "print(\"Ytest: \")\n",
    "ytest[\"Unique Headcount\"].describe()"
   ]
  },
  {
   "cell_type": "markdown",
   "metadata": {},
   "source": [
    "### Analysis:\n",
    "- This model has a worse error than the RF prediction model\n",
    "- However its actual vs predicted plot too is slightly linear and robust to outliers, indicating it is a good fit for the given data\n",
    "- Since it is a two part model, the accuracy of the first heavily affects the second. Improving will improve the model"
   ]
  },
  {
   "cell_type": "markdown",
   "metadata": {},
   "source": [
    "## Approach 5\n",
    "- Same approach as #4, but with PCA\n",
    "- Using PCA since PCA clearly allows for the classification model to learn features better and give a higher accuracy"
   ]
  },
  {
   "cell_type": "code",
   "execution_count": 114,
   "metadata": {},
   "outputs": [
    {
     "data": {
      "text/plain": [
       "(83173, 201)"
      ]
     },
     "execution_count": 114,
     "metadata": {},
     "output_type": "execute_result"
    }
   ],
   "source": [
    "data = pd.concat((train.drop([\"Unique Headcount\",\"UH\",\"Category\"],axis=1),test),axis=0)\n",
    "data.shape"
   ]
  },
  {
   "cell_type": "code",
   "execution_count": 115,
   "metadata": {},
   "outputs": [
    {
     "data": {
      "text/html": [
       "<div>\n",
       "<style scoped>\n",
       "    .dataframe tbody tr th:only-of-type {\n",
       "        vertical-align: middle;\n",
       "    }\n",
       "\n",
       "    .dataframe tbody tr th {\n",
       "        vertical-align: top;\n",
       "    }\n",
       "\n",
       "    .dataframe thead th {\n",
       "        text-align: right;\n",
       "    }\n",
       "</style>\n",
       "<table border=\"1\" class=\"dataframe\">\n",
       "  <thead>\n",
       "    <tr style=\"text-align: right;\">\n",
       "      <th></th>\n",
       "      <th>Fiscal Year-2008/09</th>\n",
       "      <th>Fiscal Year-2009/10</th>\n",
       "      <th>Fiscal Year-2010/11</th>\n",
       "      <th>Fiscal Year-2011/12</th>\n",
       "      <th>Fiscal Year-2012/13</th>\n",
       "      <th>Fiscal Year-2013/14</th>\n",
       "      <th>Fiscal Year-2014/15</th>\n",
       "      <th>Fiscal Year-2015/16</th>\n",
       "      <th>Term Type-Fall term</th>\n",
       "      <th>Term Type-Spring term</th>\n",
       "      <th>...</th>\n",
       "      <th>WorkTerm-Work Term</th>\n",
       "      <th>Attendance-Full-Time</th>\n",
       "      <th>Attendance-Part-Time</th>\n",
       "      <th>Attendance-Unknown Attendance</th>\n",
       "      <th>Visa Status-Canadian</th>\n",
       "      <th>Visa Status-International</th>\n",
       "      <th>Visa Status-Canadian Permanent Resident</th>\n",
       "      <th>Gender-Male</th>\n",
       "      <th>Gender-Female</th>\n",
       "      <th>Gender-Another Gender Identity</th>\n",
       "    </tr>\n",
       "  </thead>\n",
       "  <tbody>\n",
       "    <tr>\n",
       "      <th>0</th>\n",
       "      <td>1</td>\n",
       "      <td>0</td>\n",
       "      <td>0</td>\n",
       "      <td>0</td>\n",
       "      <td>0</td>\n",
       "      <td>0</td>\n",
       "      <td>0</td>\n",
       "      <td>0</td>\n",
       "      <td>1</td>\n",
       "      <td>0</td>\n",
       "      <td>...</td>\n",
       "      <td>0</td>\n",
       "      <td>1</td>\n",
       "      <td>0</td>\n",
       "      <td>0</td>\n",
       "      <td>1</td>\n",
       "      <td>0</td>\n",
       "      <td>0</td>\n",
       "      <td>1</td>\n",
       "      <td>0</td>\n",
       "      <td>0</td>\n",
       "    </tr>\n",
       "    <tr>\n",
       "      <th>1</th>\n",
       "      <td>1</td>\n",
       "      <td>0</td>\n",
       "      <td>0</td>\n",
       "      <td>0</td>\n",
       "      <td>0</td>\n",
       "      <td>0</td>\n",
       "      <td>0</td>\n",
       "      <td>0</td>\n",
       "      <td>1</td>\n",
       "      <td>0</td>\n",
       "      <td>...</td>\n",
       "      <td>0</td>\n",
       "      <td>1</td>\n",
       "      <td>0</td>\n",
       "      <td>0</td>\n",
       "      <td>1</td>\n",
       "      <td>0</td>\n",
       "      <td>0</td>\n",
       "      <td>0</td>\n",
       "      <td>1</td>\n",
       "      <td>0</td>\n",
       "    </tr>\n",
       "    <tr>\n",
       "      <th>2</th>\n",
       "      <td>1</td>\n",
       "      <td>0</td>\n",
       "      <td>0</td>\n",
       "      <td>0</td>\n",
       "      <td>0</td>\n",
       "      <td>0</td>\n",
       "      <td>0</td>\n",
       "      <td>0</td>\n",
       "      <td>1</td>\n",
       "      <td>0</td>\n",
       "      <td>...</td>\n",
       "      <td>0</td>\n",
       "      <td>1</td>\n",
       "      <td>0</td>\n",
       "      <td>0</td>\n",
       "      <td>0</td>\n",
       "      <td>1</td>\n",
       "      <td>0</td>\n",
       "      <td>0</td>\n",
       "      <td>1</td>\n",
       "      <td>0</td>\n",
       "    </tr>\n",
       "    <tr>\n",
       "      <th>3</th>\n",
       "      <td>1</td>\n",
       "      <td>0</td>\n",
       "      <td>0</td>\n",
       "      <td>0</td>\n",
       "      <td>0</td>\n",
       "      <td>0</td>\n",
       "      <td>0</td>\n",
       "      <td>0</td>\n",
       "      <td>1</td>\n",
       "      <td>0</td>\n",
       "      <td>...</td>\n",
       "      <td>0</td>\n",
       "      <td>1</td>\n",
       "      <td>0</td>\n",
       "      <td>0</td>\n",
       "      <td>1</td>\n",
       "      <td>0</td>\n",
       "      <td>0</td>\n",
       "      <td>1</td>\n",
       "      <td>0</td>\n",
       "      <td>0</td>\n",
       "    </tr>\n",
       "    <tr>\n",
       "      <th>4</th>\n",
       "      <td>1</td>\n",
       "      <td>0</td>\n",
       "      <td>0</td>\n",
       "      <td>0</td>\n",
       "      <td>0</td>\n",
       "      <td>0</td>\n",
       "      <td>0</td>\n",
       "      <td>0</td>\n",
       "      <td>1</td>\n",
       "      <td>0</td>\n",
       "      <td>...</td>\n",
       "      <td>0</td>\n",
       "      <td>1</td>\n",
       "      <td>0</td>\n",
       "      <td>0</td>\n",
       "      <td>1</td>\n",
       "      <td>0</td>\n",
       "      <td>0</td>\n",
       "      <td>0</td>\n",
       "      <td>1</td>\n",
       "      <td>0</td>\n",
       "    </tr>\n",
       "    <tr>\n",
       "      <th>...</th>\n",
       "      <td>...</td>\n",
       "      <td>...</td>\n",
       "      <td>...</td>\n",
       "      <td>...</td>\n",
       "      <td>...</td>\n",
       "      <td>...</td>\n",
       "      <td>...</td>\n",
       "      <td>...</td>\n",
       "      <td>...</td>\n",
       "      <td>...</td>\n",
       "      <td>...</td>\n",
       "      <td>...</td>\n",
       "      <td>...</td>\n",
       "      <td>...</td>\n",
       "      <td>...</td>\n",
       "      <td>...</td>\n",
       "      <td>...</td>\n",
       "      <td>...</td>\n",
       "      <td>...</td>\n",
       "      <td>...</td>\n",
       "      <td>...</td>\n",
       "    </tr>\n",
       "    <tr>\n",
       "      <th>10919</th>\n",
       "      <td>0</td>\n",
       "      <td>0</td>\n",
       "      <td>0</td>\n",
       "      <td>0</td>\n",
       "      <td>0</td>\n",
       "      <td>0</td>\n",
       "      <td>0</td>\n",
       "      <td>1</td>\n",
       "      <td>0</td>\n",
       "      <td>0</td>\n",
       "      <td>...</td>\n",
       "      <td>0</td>\n",
       "      <td>0</td>\n",
       "      <td>1</td>\n",
       "      <td>0</td>\n",
       "      <td>1</td>\n",
       "      <td>0</td>\n",
       "      <td>0</td>\n",
       "      <td>0</td>\n",
       "      <td>1</td>\n",
       "      <td>0</td>\n",
       "    </tr>\n",
       "    <tr>\n",
       "      <th>10920</th>\n",
       "      <td>0</td>\n",
       "      <td>0</td>\n",
       "      <td>0</td>\n",
       "      <td>0</td>\n",
       "      <td>0</td>\n",
       "      <td>0</td>\n",
       "      <td>0</td>\n",
       "      <td>1</td>\n",
       "      <td>0</td>\n",
       "      <td>0</td>\n",
       "      <td>...</td>\n",
       "      <td>0</td>\n",
       "      <td>0</td>\n",
       "      <td>1</td>\n",
       "      <td>0</td>\n",
       "      <td>0</td>\n",
       "      <td>0</td>\n",
       "      <td>1</td>\n",
       "      <td>1</td>\n",
       "      <td>0</td>\n",
       "      <td>0</td>\n",
       "    </tr>\n",
       "    <tr>\n",
       "      <th>10921</th>\n",
       "      <td>0</td>\n",
       "      <td>0</td>\n",
       "      <td>0</td>\n",
       "      <td>0</td>\n",
       "      <td>0</td>\n",
       "      <td>0</td>\n",
       "      <td>0</td>\n",
       "      <td>1</td>\n",
       "      <td>0</td>\n",
       "      <td>0</td>\n",
       "      <td>...</td>\n",
       "      <td>0</td>\n",
       "      <td>0</td>\n",
       "      <td>1</td>\n",
       "      <td>0</td>\n",
       "      <td>0</td>\n",
       "      <td>0</td>\n",
       "      <td>1</td>\n",
       "      <td>0</td>\n",
       "      <td>1</td>\n",
       "      <td>0</td>\n",
       "    </tr>\n",
       "    <tr>\n",
       "      <th>10922</th>\n",
       "      <td>0</td>\n",
       "      <td>0</td>\n",
       "      <td>0</td>\n",
       "      <td>0</td>\n",
       "      <td>0</td>\n",
       "      <td>0</td>\n",
       "      <td>0</td>\n",
       "      <td>1</td>\n",
       "      <td>0</td>\n",
       "      <td>0</td>\n",
       "      <td>...</td>\n",
       "      <td>0</td>\n",
       "      <td>0</td>\n",
       "      <td>1</td>\n",
       "      <td>0</td>\n",
       "      <td>0</td>\n",
       "      <td>1</td>\n",
       "      <td>0</td>\n",
       "      <td>1</td>\n",
       "      <td>0</td>\n",
       "      <td>0</td>\n",
       "    </tr>\n",
       "    <tr>\n",
       "      <th>10923</th>\n",
       "      <td>0</td>\n",
       "      <td>0</td>\n",
       "      <td>0</td>\n",
       "      <td>0</td>\n",
       "      <td>0</td>\n",
       "      <td>0</td>\n",
       "      <td>0</td>\n",
       "      <td>1</td>\n",
       "      <td>0</td>\n",
       "      <td>0</td>\n",
       "      <td>...</td>\n",
       "      <td>0</td>\n",
       "      <td>0</td>\n",
       "      <td>1</td>\n",
       "      <td>0</td>\n",
       "      <td>0</td>\n",
       "      <td>1</td>\n",
       "      <td>0</td>\n",
       "      <td>0</td>\n",
       "      <td>1</td>\n",
       "      <td>0</td>\n",
       "    </tr>\n",
       "  </tbody>\n",
       "</table>\n",
       "<p>83173 rows × 201 columns</p>\n",
       "</div>"
      ],
      "text/plain": [
       "       Fiscal Year-2008/09  Fiscal Year-2009/10  Fiscal Year-2010/11  \\\n",
       "0                        1                    0                    0   \n",
       "1                        1                    0                    0   \n",
       "2                        1                    0                    0   \n",
       "3                        1                    0                    0   \n",
       "4                        1                    0                    0   \n",
       "...                    ...                  ...                  ...   \n",
       "10919                    0                    0                    0   \n",
       "10920                    0                    0                    0   \n",
       "10921                    0                    0                    0   \n",
       "10922                    0                    0                    0   \n",
       "10923                    0                    0                    0   \n",
       "\n",
       "       Fiscal Year-2011/12  Fiscal Year-2012/13  Fiscal Year-2013/14  \\\n",
       "0                        0                    0                    0   \n",
       "1                        0                    0                    0   \n",
       "2                        0                    0                    0   \n",
       "3                        0                    0                    0   \n",
       "4                        0                    0                    0   \n",
       "...                    ...                  ...                  ...   \n",
       "10919                    0                    0                    0   \n",
       "10920                    0                    0                    0   \n",
       "10921                    0                    0                    0   \n",
       "10922                    0                    0                    0   \n",
       "10923                    0                    0                    0   \n",
       "\n",
       "       Fiscal Year-2014/15  Fiscal Year-2015/16  Term Type-Fall term  \\\n",
       "0                        0                    0                    1   \n",
       "1                        0                    0                    1   \n",
       "2                        0                    0                    1   \n",
       "3                        0                    0                    1   \n",
       "4                        0                    0                    1   \n",
       "...                    ...                  ...                  ...   \n",
       "10919                    0                    1                    0   \n",
       "10920                    0                    1                    0   \n",
       "10921                    0                    1                    0   \n",
       "10922                    0                    1                    0   \n",
       "10923                    0                    1                    0   \n",
       "\n",
       "       Term Type-Spring term  ...  WorkTerm-Work Term  Attendance-Full-Time  \\\n",
       "0                          0  ...                   0                     1   \n",
       "1                          0  ...                   0                     1   \n",
       "2                          0  ...                   0                     1   \n",
       "3                          0  ...                   0                     1   \n",
       "4                          0  ...                   0                     1   \n",
       "...                      ...  ...                 ...                   ...   \n",
       "10919                      0  ...                   0                     0   \n",
       "10920                      0  ...                   0                     0   \n",
       "10921                      0  ...                   0                     0   \n",
       "10922                      0  ...                   0                     0   \n",
       "10923                      0  ...                   0                     0   \n",
       "\n",
       "       Attendance-Part-Time  Attendance-Unknown Attendance  \\\n",
       "0                         0                              0   \n",
       "1                         0                              0   \n",
       "2                         0                              0   \n",
       "3                         0                              0   \n",
       "4                         0                              0   \n",
       "...                     ...                            ...   \n",
       "10919                     1                              0   \n",
       "10920                     1                              0   \n",
       "10921                     1                              0   \n",
       "10922                     1                              0   \n",
       "10923                     1                              0   \n",
       "\n",
       "       Visa Status-Canadian  Visa Status-International  \\\n",
       "0                         1                          0   \n",
       "1                         1                          0   \n",
       "2                         0                          1   \n",
       "3                         1                          0   \n",
       "4                         1                          0   \n",
       "...                     ...                        ...   \n",
       "10919                     1                          0   \n",
       "10920                     0                          0   \n",
       "10921                     0                          0   \n",
       "10922                     0                          1   \n",
       "10923                     0                          1   \n",
       "\n",
       "       Visa Status-Canadian Permanent Resident  Gender-Male  Gender-Female  \\\n",
       "0                                            0            1              0   \n",
       "1                                            0            0              1   \n",
       "2                                            0            0              1   \n",
       "3                                            0            1              0   \n",
       "4                                            0            0              1   \n",
       "...                                        ...          ...            ...   \n",
       "10919                                        0            0              1   \n",
       "10920                                        1            1              0   \n",
       "10921                                        1            0              1   \n",
       "10922                                        0            1              0   \n",
       "10923                                        0            0              1   \n",
       "\n",
       "       Gender-Another Gender Identity  \n",
       "0                                   0  \n",
       "1                                   0  \n",
       "2                                   0  \n",
       "3                                   0  \n",
       "4                                   0  \n",
       "...                               ...  \n",
       "10919                               0  \n",
       "10920                               0  \n",
       "10921                               0  \n",
       "10922                               0  \n",
       "10923                               0  \n",
       "\n",
       "[83173 rows x 201 columns]"
      ]
     },
     "execution_count": 115,
     "metadata": {},
     "output_type": "execute_result"
    }
   ],
   "source": [
    "data"
   ]
  },
  {
   "cell_type": "code",
   "execution_count": 116,
   "metadata": {},
   "outputs": [
    {
     "name": "stdout",
     "output_type": "stream",
     "text": [
      "(83173, 80)\n"
     ]
    }
   ],
   "source": [
    "pca = PCA(n_components=80)\n",
    "pcomp  = pca.fit_transform(data)\n",
    "print(pcomp.shape)\n",
    "pclist = []\n",
    "for i in range(pcomp.shape[1]):\n",
    "    pclist.append('pc'+str(i+1))\n",
    "datapca = pd.DataFrame(pcomp,columns = pclist)"
   ]
  },
  {
   "cell_type": "code",
   "execution_count": 117,
   "metadata": {},
   "outputs": [
    {
     "name": "stderr",
     "output_type": "stream",
     "text": [
      "C:\\Users\\Andrea Solomon\\anaconda3\\lib\\site-packages\\ipykernel_launcher.py:3: SettingWithCopyWarning: \n",
      "A value is trying to be set on a copy of a slice from a DataFrame.\n",
      "Try using .loc[row_indexer,col_indexer] = value instead\n",
      "\n",
      "See the caveats in the documentation: https://pandas.pydata.org/pandas-docs/stable/user_guide/indexing.html#returning-a-view-versus-a-copy\n",
      "  This is separate from the ipykernel package so we can avoid doing imports until\n",
      "C:\\Users\\Andrea Solomon\\anaconda3\\lib\\site-packages\\ipykernel_launcher.py:4: SettingWithCopyWarning: \n",
      "A value is trying to be set on a copy of a slice from a DataFrame.\n",
      "Try using .loc[row_indexer,col_indexer] = value instead\n",
      "\n",
      "See the caveats in the documentation: https://pandas.pydata.org/pandas-docs/stable/user_guide/indexing.html#returning-a-view-versus-a-copy\n",
      "  after removing the cwd from sys.path.\n"
     ]
    }
   ],
   "source": [
    "trainpca = datapca[:train.shape[0]]\n",
    "testpca = datapca[train.shape[0]:]\n",
    "trainpca[\"Unique Headcount\"] = headcount\n",
    "trainpca[\"Category\"] = train[\"Unique Headcount\"].apply(lambda x:assign_cat(x))"
   ]
  },
  {
   "cell_type": "code",
   "execution_count": 118,
   "metadata": {
    "scrolled": true
   },
   "outputs": [
    {
     "name": "stdout",
     "output_type": "stream",
     "text": [
      "[[17410   286    52]\n",
      " [  780  1423   142]\n",
      " [   54   190  1338]]\n",
      "              precision    recall  f1-score   support\n",
      "\n",
      "   10<uh<=25       0.75      0.61      0.67      2345\n",
      "      uh<=10       0.95      0.98      0.97     17748\n",
      "       uh>25       0.87      0.85      0.86      1582\n",
      "\n",
      "    accuracy                           0.93     21675\n",
      "   macro avg       0.86      0.81      0.83     21675\n",
      "weighted avg       0.93      0.93      0.93     21675\n",
      "\n",
      "0.9306113033448674\n"
     ]
    }
   ],
   "source": [
    "x = trainpca.drop([\"Unique Headcount\",\"Category\"],axis=1)\n",
    "y = trainpca[[\"Unique Headcount\",\"Category\"]]\n",
    "xtrain,xtest,ytrain,ytest = train_test_split(x,y,shuffle=True,test_size=0.3)\n",
    "rfclassifier = RandomForestClassifier(n_estimators=300)\n",
    "rfclassifier.fit(xtrain,ytrain[\"Category\"])\n",
    "rfy_pred = rfclassifier.predict(xtest)\n",
    "print(confusion_matrix(ytest[\"Category\"], rfy_pred,labels = ['uh<=10','10<uh<=25','uh>25']))\n",
    "print(classification_report(ytest[\"Category\"], rfy_pred))\n",
    "print(accuracy_score(ytest[\"Category\"], rfy_pred))"
   ]
  },
  {
   "cell_type": "code",
   "execution_count": 129,
   "metadata": {},
   "outputs": [
    {
     "data": {
      "text/html": [
       "<div>\n",
       "<style scoped>\n",
       "    .dataframe tbody tr th:only-of-type {\n",
       "        vertical-align: middle;\n",
       "    }\n",
       "\n",
       "    .dataframe tbody tr th {\n",
       "        vertical-align: top;\n",
       "    }\n",
       "\n",
       "    .dataframe thead th {\n",
       "        text-align: right;\n",
       "    }\n",
       "</style>\n",
       "<table border=\"1\" class=\"dataframe\">\n",
       "  <thead>\n",
       "    <tr style=\"text-align: right;\">\n",
       "      <th></th>\n",
       "      <th>pc1</th>\n",
       "      <th>pc2</th>\n",
       "      <th>pc3</th>\n",
       "      <th>pc4</th>\n",
       "      <th>pc5</th>\n",
       "      <th>pc6</th>\n",
       "      <th>pc7</th>\n",
       "      <th>pc8</th>\n",
       "      <th>pc9</th>\n",
       "      <th>pc10</th>\n",
       "      <th>...</th>\n",
       "      <th>pc72</th>\n",
       "      <th>pc73</th>\n",
       "      <th>pc74</th>\n",
       "      <th>pc75</th>\n",
       "      <th>pc76</th>\n",
       "      <th>pc77</th>\n",
       "      <th>pc78</th>\n",
       "      <th>pc79</th>\n",
       "      <th>pc80</th>\n",
       "      <th>Category</th>\n",
       "    </tr>\n",
       "  </thead>\n",
       "  <tbody>\n",
       "    <tr>\n",
       "      <th>52501</th>\n",
       "      <td>-0.721654</td>\n",
       "      <td>0.844125</td>\n",
       "      <td>-0.087402</td>\n",
       "      <td>-0.702924</td>\n",
       "      <td>0.651937</td>\n",
       "      <td>-0.156917</td>\n",
       "      <td>0.445313</td>\n",
       "      <td>-0.723633</td>\n",
       "      <td>-0.592176</td>\n",
       "      <td>0.073825</td>\n",
       "      <td>...</td>\n",
       "      <td>-0.128545</td>\n",
       "      <td>0.009739</td>\n",
       "      <td>-0.003617</td>\n",
       "      <td>-0.014736</td>\n",
       "      <td>0.007960</td>\n",
       "      <td>-0.000906</td>\n",
       "      <td>-0.022140</td>\n",
       "      <td>0.004796</td>\n",
       "      <td>-0.002077</td>\n",
       "      <td>uh&lt;=10</td>\n",
       "    </tr>\n",
       "    <tr>\n",
       "      <th>66029</th>\n",
       "      <td>-0.678745</td>\n",
       "      <td>0.482155</td>\n",
       "      <td>-0.558744</td>\n",
       "      <td>0.525666</td>\n",
       "      <td>0.112068</td>\n",
       "      <td>0.446808</td>\n",
       "      <td>-0.038402</td>\n",
       "      <td>-0.168559</td>\n",
       "      <td>-0.849591</td>\n",
       "      <td>-0.713584</td>\n",
       "      <td>...</td>\n",
       "      <td>0.241356</td>\n",
       "      <td>-0.011128</td>\n",
       "      <td>-0.044854</td>\n",
       "      <td>0.052561</td>\n",
       "      <td>-0.035040</td>\n",
       "      <td>-0.006298</td>\n",
       "      <td>0.095560</td>\n",
       "      <td>0.000601</td>\n",
       "      <td>0.099397</td>\n",
       "      <td>uh&gt;25</td>\n",
       "    </tr>\n",
       "    <tr>\n",
       "      <th>47876</th>\n",
       "      <td>-0.710931</td>\n",
       "      <td>-0.037811</td>\n",
       "      <td>0.916971</td>\n",
       "      <td>-0.708498</td>\n",
       "      <td>-0.780786</td>\n",
       "      <td>-0.122880</td>\n",
       "      <td>0.144109</td>\n",
       "      <td>0.828136</td>\n",
       "      <td>-0.139117</td>\n",
       "      <td>-0.136986</td>\n",
       "      <td>...</td>\n",
       "      <td>0.005912</td>\n",
       "      <td>0.001171</td>\n",
       "      <td>-0.012367</td>\n",
       "      <td>-0.007112</td>\n",
       "      <td>0.005661</td>\n",
       "      <td>0.000270</td>\n",
       "      <td>-0.007679</td>\n",
       "      <td>-0.003736</td>\n",
       "      <td>-0.004828</td>\n",
       "      <td>uh&lt;=10</td>\n",
       "    </tr>\n",
       "    <tr>\n",
       "      <th>52740</th>\n",
       "      <td>0.171637</td>\n",
       "      <td>-0.168069</td>\n",
       "      <td>-1.101542</td>\n",
       "      <td>-0.183532</td>\n",
       "      <td>0.746078</td>\n",
       "      <td>-0.657119</td>\n",
       "      <td>-0.743165</td>\n",
       "      <td>-0.365019</td>\n",
       "      <td>0.433292</td>\n",
       "      <td>-0.273571</td>\n",
       "      <td>...</td>\n",
       "      <td>-0.016677</td>\n",
       "      <td>0.013743</td>\n",
       "      <td>-0.059370</td>\n",
       "      <td>-0.006787</td>\n",
       "      <td>-0.001901</td>\n",
       "      <td>0.018891</td>\n",
       "      <td>-0.044605</td>\n",
       "      <td>0.134311</td>\n",
       "      <td>0.024401</td>\n",
       "      <td>uh&lt;=10</td>\n",
       "    </tr>\n",
       "    <tr>\n",
       "      <th>67581</th>\n",
       "      <td>0.139426</td>\n",
       "      <td>0.493786</td>\n",
       "      <td>-0.538292</td>\n",
       "      <td>-0.742415</td>\n",
       "      <td>-0.138743</td>\n",
       "      <td>0.801005</td>\n",
       "      <td>-0.642175</td>\n",
       "      <td>-0.715356</td>\n",
       "      <td>0.128704</td>\n",
       "      <td>-0.782875</td>\n",
       "      <td>...</td>\n",
       "      <td>0.079382</td>\n",
       "      <td>-0.012622</td>\n",
       "      <td>-0.002706</td>\n",
       "      <td>0.007287</td>\n",
       "      <td>-0.007262</td>\n",
       "      <td>0.012414</td>\n",
       "      <td>0.018685</td>\n",
       "      <td>-0.013625</td>\n",
       "      <td>0.023603</td>\n",
       "      <td>uh&lt;=10</td>\n",
       "    </tr>\n",
       "    <tr>\n",
       "      <th>...</th>\n",
       "      <td>...</td>\n",
       "      <td>...</td>\n",
       "      <td>...</td>\n",
       "      <td>...</td>\n",
       "      <td>...</td>\n",
       "      <td>...</td>\n",
       "      <td>...</td>\n",
       "      <td>...</td>\n",
       "      <td>...</td>\n",
       "      <td>...</td>\n",
       "      <td>...</td>\n",
       "      <td>...</td>\n",
       "      <td>...</td>\n",
       "      <td>...</td>\n",
       "      <td>...</td>\n",
       "      <td>...</td>\n",
       "      <td>...</td>\n",
       "      <td>...</td>\n",
       "      <td>...</td>\n",
       "      <td>...</td>\n",
       "      <td>...</td>\n",
       "    </tr>\n",
       "    <tr>\n",
       "      <th>36355</th>\n",
       "      <td>1.783620</td>\n",
       "      <td>-0.270083</td>\n",
       "      <td>0.586137</td>\n",
       "      <td>0.887583</td>\n",
       "      <td>-0.592501</td>\n",
       "      <td>-0.180901</td>\n",
       "      <td>0.875486</td>\n",
       "      <td>-0.067001</td>\n",
       "      <td>0.192511</td>\n",
       "      <td>-0.357962</td>\n",
       "      <td>...</td>\n",
       "      <td>0.008580</td>\n",
       "      <td>0.003354</td>\n",
       "      <td>0.017450</td>\n",
       "      <td>0.052243</td>\n",
       "      <td>0.007430</td>\n",
       "      <td>0.012698</td>\n",
       "      <td>0.006829</td>\n",
       "      <td>0.020731</td>\n",
       "      <td>-0.014456</td>\n",
       "      <td>uh&lt;=10</td>\n",
       "    </tr>\n",
       "    <tr>\n",
       "      <th>53558</th>\n",
       "      <td>-0.678311</td>\n",
       "      <td>-0.685511</td>\n",
       "      <td>0.300046</td>\n",
       "      <td>0.172668</td>\n",
       "      <td>0.764573</td>\n",
       "      <td>-0.370616</td>\n",
       "      <td>0.690440</td>\n",
       "      <td>0.339510</td>\n",
       "      <td>-0.314036</td>\n",
       "      <td>-0.133429</td>\n",
       "      <td>...</td>\n",
       "      <td>0.035700</td>\n",
       "      <td>-0.023925</td>\n",
       "      <td>0.005741</td>\n",
       "      <td>-0.011580</td>\n",
       "      <td>0.045428</td>\n",
       "      <td>-0.031592</td>\n",
       "      <td>-0.031734</td>\n",
       "      <td>0.085954</td>\n",
       "      <td>-0.062574</td>\n",
       "      <td>uh&lt;=10</td>\n",
       "    </tr>\n",
       "    <tr>\n",
       "      <th>37855</th>\n",
       "      <td>-0.801260</td>\n",
       "      <td>-0.086996</td>\n",
       "      <td>0.886976</td>\n",
       "      <td>-0.659012</td>\n",
       "      <td>-0.793588</td>\n",
       "      <td>0.015631</td>\n",
       "      <td>0.377591</td>\n",
       "      <td>0.264605</td>\n",
       "      <td>-0.087616</td>\n",
       "      <td>0.594290</td>\n",
       "      <td>...</td>\n",
       "      <td>0.003795</td>\n",
       "      <td>0.003071</td>\n",
       "      <td>-0.003980</td>\n",
       "      <td>0.001609</td>\n",
       "      <td>0.001651</td>\n",
       "      <td>-0.004021</td>\n",
       "      <td>0.004634</td>\n",
       "      <td>0.002469</td>\n",
       "      <td>-0.005434</td>\n",
       "      <td>uh&lt;=10</td>\n",
       "    </tr>\n",
       "    <tr>\n",
       "      <th>22778</th>\n",
       "      <td>1.525170</td>\n",
       "      <td>-0.221799</td>\n",
       "      <td>0.724258</td>\n",
       "      <td>0.851307</td>\n",
       "      <td>0.115259</td>\n",
       "      <td>0.381013</td>\n",
       "      <td>-0.468196</td>\n",
       "      <td>0.267609</td>\n",
       "      <td>-0.502019</td>\n",
       "      <td>-0.337464</td>\n",
       "      <td>...</td>\n",
       "      <td>0.008351</td>\n",
       "      <td>-0.002697</td>\n",
       "      <td>0.003073</td>\n",
       "      <td>0.017913</td>\n",
       "      <td>-0.057339</td>\n",
       "      <td>0.046485</td>\n",
       "      <td>-0.029405</td>\n",
       "      <td>-0.020396</td>\n",
       "      <td>0.006976</td>\n",
       "      <td>uh&lt;=10</td>\n",
       "    </tr>\n",
       "    <tr>\n",
       "      <th>51914</th>\n",
       "      <td>-0.706422</td>\n",
       "      <td>-0.615173</td>\n",
       "      <td>0.412784</td>\n",
       "      <td>0.206617</td>\n",
       "      <td>0.814039</td>\n",
       "      <td>-0.399844</td>\n",
       "      <td>0.330276</td>\n",
       "      <td>0.025013</td>\n",
       "      <td>-0.725845</td>\n",
       "      <td>-0.012143</td>\n",
       "      <td>...</td>\n",
       "      <td>-0.013993</td>\n",
       "      <td>0.003345</td>\n",
       "      <td>-0.007651</td>\n",
       "      <td>-0.005760</td>\n",
       "      <td>0.012340</td>\n",
       "      <td>0.021588</td>\n",
       "      <td>0.002000</td>\n",
       "      <td>-0.032389</td>\n",
       "      <td>0.001894</td>\n",
       "      <td>10&lt;uh&lt;=25</td>\n",
       "    </tr>\n",
       "  </tbody>\n",
       "</table>\n",
       "<p>21675 rows × 81 columns</p>\n",
       "</div>"
      ],
      "text/plain": [
       "            pc1       pc2       pc3       pc4       pc5       pc6       pc7  \\\n",
       "52501 -0.721654  0.844125 -0.087402 -0.702924  0.651937 -0.156917  0.445313   \n",
       "66029 -0.678745  0.482155 -0.558744  0.525666  0.112068  0.446808 -0.038402   \n",
       "47876 -0.710931 -0.037811  0.916971 -0.708498 -0.780786 -0.122880  0.144109   \n",
       "52740  0.171637 -0.168069 -1.101542 -0.183532  0.746078 -0.657119 -0.743165   \n",
       "67581  0.139426  0.493786 -0.538292 -0.742415 -0.138743  0.801005 -0.642175   \n",
       "...         ...       ...       ...       ...       ...       ...       ...   \n",
       "36355  1.783620 -0.270083  0.586137  0.887583 -0.592501 -0.180901  0.875486   \n",
       "53558 -0.678311 -0.685511  0.300046  0.172668  0.764573 -0.370616  0.690440   \n",
       "37855 -0.801260 -0.086996  0.886976 -0.659012 -0.793588  0.015631  0.377591   \n",
       "22778  1.525170 -0.221799  0.724258  0.851307  0.115259  0.381013 -0.468196   \n",
       "51914 -0.706422 -0.615173  0.412784  0.206617  0.814039 -0.399844  0.330276   \n",
       "\n",
       "            pc8       pc9      pc10  ...      pc72      pc73      pc74  \\\n",
       "52501 -0.723633 -0.592176  0.073825  ... -0.128545  0.009739 -0.003617   \n",
       "66029 -0.168559 -0.849591 -0.713584  ...  0.241356 -0.011128 -0.044854   \n",
       "47876  0.828136 -0.139117 -0.136986  ...  0.005912  0.001171 -0.012367   \n",
       "52740 -0.365019  0.433292 -0.273571  ... -0.016677  0.013743 -0.059370   \n",
       "67581 -0.715356  0.128704 -0.782875  ...  0.079382 -0.012622 -0.002706   \n",
       "...         ...       ...       ...  ...       ...       ...       ...   \n",
       "36355 -0.067001  0.192511 -0.357962  ...  0.008580  0.003354  0.017450   \n",
       "53558  0.339510 -0.314036 -0.133429  ...  0.035700 -0.023925  0.005741   \n",
       "37855  0.264605 -0.087616  0.594290  ...  0.003795  0.003071 -0.003980   \n",
       "22778  0.267609 -0.502019 -0.337464  ...  0.008351 -0.002697  0.003073   \n",
       "51914  0.025013 -0.725845 -0.012143  ... -0.013993  0.003345 -0.007651   \n",
       "\n",
       "           pc75      pc76      pc77      pc78      pc79      pc80   Category  \n",
       "52501 -0.014736  0.007960 -0.000906 -0.022140  0.004796 -0.002077     uh<=10  \n",
       "66029  0.052561 -0.035040 -0.006298  0.095560  0.000601  0.099397      uh>25  \n",
       "47876 -0.007112  0.005661  0.000270 -0.007679 -0.003736 -0.004828     uh<=10  \n",
       "52740 -0.006787 -0.001901  0.018891 -0.044605  0.134311  0.024401     uh<=10  \n",
       "67581  0.007287 -0.007262  0.012414  0.018685 -0.013625  0.023603     uh<=10  \n",
       "...         ...       ...       ...       ...       ...       ...        ...  \n",
       "36355  0.052243  0.007430  0.012698  0.006829  0.020731 -0.014456     uh<=10  \n",
       "53558 -0.011580  0.045428 -0.031592 -0.031734  0.085954 -0.062574     uh<=10  \n",
       "37855  0.001609  0.001651 -0.004021  0.004634  0.002469 -0.005434     uh<=10  \n",
       "22778  0.017913 -0.057339  0.046485 -0.029405 -0.020396  0.006976     uh<=10  \n",
       "51914 -0.005760  0.012340  0.021588  0.002000 -0.032389  0.001894  10<uh<=25  \n",
       "\n",
       "[21675 rows x 81 columns]"
      ]
     },
     "execution_count": 129,
     "metadata": {},
     "output_type": "execute_result"
    }
   ],
   "source": [
    "xtest"
   ]
  },
  {
   "cell_type": "code",
   "execution_count": 132,
   "metadata": {},
   "outputs": [
    {
     "name": "stdout",
     "output_type": "stream",
     "text": [
      "0\n",
      "Actual:  52501    uh<=10\n",
      "Name: Category, dtype: object 52501    1\n",
      "Name: Unique Headcount, dtype: int64\n"
     ]
    },
    {
     "ename": "ValueError",
     "evalue": "could not convert string to float: 'uh<=10'",
     "output_type": "error",
     "traceback": [
      "\u001b[1;31m---------------------------------------------------------------------------\u001b[0m",
      "\u001b[1;31mValueError\u001b[0m                                Traceback (most recent call last)",
      "\u001b[1;32m<ipython-input-132-259b9aee6603>\u001b[0m in \u001b[0;36m<module>\u001b[1;34m\u001b[0m\n\u001b[0;32m      2\u001b[0m \u001b[0mcount\u001b[0m\u001b[1;33m=\u001b[0m\u001b[1;36m0\u001b[0m\u001b[1;33m\u001b[0m\u001b[1;33m\u001b[0m\u001b[0m\n\u001b[0;32m      3\u001b[0m \u001b[1;31m# xtest = xtest.drop(\"Unique Headcount\",axis=1)\u001b[0m\u001b[1;33m\u001b[0m\u001b[1;33m\u001b[0m\u001b[1;33m\u001b[0m\u001b[0m\n\u001b[1;32m----> 4\u001b[1;33m \u001b[0mxtest\u001b[0m\u001b[1;33m[\u001b[0m\u001b[1;34m\"Unique Headcount\"\u001b[0m\u001b[1;33m]\u001b[0m \u001b[1;33m=\u001b[0m \u001b[0mxtest\u001b[0m\u001b[1;33m.\u001b[0m\u001b[0mapply\u001b[0m\u001b[1;33m(\u001b[0m\u001b[1;32mlambda\u001b[0m \u001b[0mx\u001b[0m\u001b[1;33m:\u001b[0m \u001b[0mpredict\u001b[0m\u001b[1;33m(\u001b[0m\u001b[0mx\u001b[0m\u001b[1;33m)\u001b[0m\u001b[1;33m,\u001b[0m\u001b[0maxis\u001b[0m\u001b[1;33m=\u001b[0m\u001b[1;36m1\u001b[0m\u001b[1;33m)\u001b[0m\u001b[1;33m\u001b[0m\u001b[1;33m\u001b[0m\u001b[0m\n\u001b[0m",
      "\u001b[1;32mC:\\Users\\Andrea Solomon\\anaconda3\\lib\\site-packages\\pandas\\core\\frame.py\u001b[0m in \u001b[0;36mapply\u001b[1;34m(self, func, axis, raw, result_type, args, **kwds)\u001b[0m\n\u001b[0;32m   7763\u001b[0m             \u001b[0mkwds\u001b[0m\u001b[1;33m=\u001b[0m\u001b[0mkwds\u001b[0m\u001b[1;33m,\u001b[0m\u001b[1;33m\u001b[0m\u001b[1;33m\u001b[0m\u001b[0m\n\u001b[0;32m   7764\u001b[0m         )\n\u001b[1;32m-> 7765\u001b[1;33m         \u001b[1;32mreturn\u001b[0m \u001b[0mop\u001b[0m\u001b[1;33m.\u001b[0m\u001b[0mget_result\u001b[0m\u001b[1;33m(\u001b[0m\u001b[1;33m)\u001b[0m\u001b[1;33m\u001b[0m\u001b[1;33m\u001b[0m\u001b[0m\n\u001b[0m\u001b[0;32m   7766\u001b[0m \u001b[1;33m\u001b[0m\u001b[0m\n\u001b[0;32m   7767\u001b[0m     \u001b[1;32mdef\u001b[0m \u001b[0mapplymap\u001b[0m\u001b[1;33m(\u001b[0m\u001b[0mself\u001b[0m\u001b[1;33m,\u001b[0m \u001b[0mfunc\u001b[0m\u001b[1;33m,\u001b[0m \u001b[0mna_action\u001b[0m\u001b[1;33m:\u001b[0m \u001b[0mOptional\u001b[0m\u001b[1;33m[\u001b[0m\u001b[0mstr\u001b[0m\u001b[1;33m]\u001b[0m \u001b[1;33m=\u001b[0m \u001b[1;32mNone\u001b[0m\u001b[1;33m)\u001b[0m \u001b[1;33m->\u001b[0m \u001b[0mDataFrame\u001b[0m\u001b[1;33m:\u001b[0m\u001b[1;33m\u001b[0m\u001b[1;33m\u001b[0m\u001b[0m\n",
      "\u001b[1;32mC:\\Users\\Andrea Solomon\\anaconda3\\lib\\site-packages\\pandas\\core\\apply.py\u001b[0m in \u001b[0;36mget_result\u001b[1;34m(self)\u001b[0m\n\u001b[0;32m    183\u001b[0m             \u001b[1;32mreturn\u001b[0m \u001b[0mself\u001b[0m\u001b[1;33m.\u001b[0m\u001b[0mapply_raw\u001b[0m\u001b[1;33m(\u001b[0m\u001b[1;33m)\u001b[0m\u001b[1;33m\u001b[0m\u001b[1;33m\u001b[0m\u001b[0m\n\u001b[0;32m    184\u001b[0m \u001b[1;33m\u001b[0m\u001b[0m\n\u001b[1;32m--> 185\u001b[1;33m         \u001b[1;32mreturn\u001b[0m \u001b[0mself\u001b[0m\u001b[1;33m.\u001b[0m\u001b[0mapply_standard\u001b[0m\u001b[1;33m(\u001b[0m\u001b[1;33m)\u001b[0m\u001b[1;33m\u001b[0m\u001b[1;33m\u001b[0m\u001b[0m\n\u001b[0m\u001b[0;32m    186\u001b[0m \u001b[1;33m\u001b[0m\u001b[0m\n\u001b[0;32m    187\u001b[0m     \u001b[1;32mdef\u001b[0m \u001b[0mapply_empty_result\u001b[0m\u001b[1;33m(\u001b[0m\u001b[0mself\u001b[0m\u001b[1;33m)\u001b[0m\u001b[1;33m:\u001b[0m\u001b[1;33m\u001b[0m\u001b[1;33m\u001b[0m\u001b[0m\n",
      "\u001b[1;32mC:\\Users\\Andrea Solomon\\anaconda3\\lib\\site-packages\\pandas\\core\\apply.py\u001b[0m in \u001b[0;36mapply_standard\u001b[1;34m(self)\u001b[0m\n\u001b[0;32m    274\u001b[0m \u001b[1;33m\u001b[0m\u001b[0m\n\u001b[0;32m    275\u001b[0m     \u001b[1;32mdef\u001b[0m \u001b[0mapply_standard\u001b[0m\u001b[1;33m(\u001b[0m\u001b[0mself\u001b[0m\u001b[1;33m)\u001b[0m\u001b[1;33m:\u001b[0m\u001b[1;33m\u001b[0m\u001b[1;33m\u001b[0m\u001b[0m\n\u001b[1;32m--> 276\u001b[1;33m         \u001b[0mresults\u001b[0m\u001b[1;33m,\u001b[0m \u001b[0mres_index\u001b[0m \u001b[1;33m=\u001b[0m \u001b[0mself\u001b[0m\u001b[1;33m.\u001b[0m\u001b[0mapply_series_generator\u001b[0m\u001b[1;33m(\u001b[0m\u001b[1;33m)\u001b[0m\u001b[1;33m\u001b[0m\u001b[1;33m\u001b[0m\u001b[0m\n\u001b[0m\u001b[0;32m    277\u001b[0m \u001b[1;33m\u001b[0m\u001b[0m\n\u001b[0;32m    278\u001b[0m         \u001b[1;31m# wrap results\u001b[0m\u001b[1;33m\u001b[0m\u001b[1;33m\u001b[0m\u001b[1;33m\u001b[0m\u001b[0m\n",
      "\u001b[1;32mC:\\Users\\Andrea Solomon\\anaconda3\\lib\\site-packages\\pandas\\core\\apply.py\u001b[0m in \u001b[0;36mapply_series_generator\u001b[1;34m(self)\u001b[0m\n\u001b[0;32m    288\u001b[0m             \u001b[1;32mfor\u001b[0m \u001b[0mi\u001b[0m\u001b[1;33m,\u001b[0m \u001b[0mv\u001b[0m \u001b[1;32min\u001b[0m \u001b[0menumerate\u001b[0m\u001b[1;33m(\u001b[0m\u001b[0mseries_gen\u001b[0m\u001b[1;33m)\u001b[0m\u001b[1;33m:\u001b[0m\u001b[1;33m\u001b[0m\u001b[1;33m\u001b[0m\u001b[0m\n\u001b[0;32m    289\u001b[0m                 \u001b[1;31m# ignore SettingWithCopy here in case the user mutates\u001b[0m\u001b[1;33m\u001b[0m\u001b[1;33m\u001b[0m\u001b[1;33m\u001b[0m\u001b[0m\n\u001b[1;32m--> 290\u001b[1;33m                 \u001b[0mresults\u001b[0m\u001b[1;33m[\u001b[0m\u001b[0mi\u001b[0m\u001b[1;33m]\u001b[0m \u001b[1;33m=\u001b[0m \u001b[0mself\u001b[0m\u001b[1;33m.\u001b[0m\u001b[0mf\u001b[0m\u001b[1;33m(\u001b[0m\u001b[0mv\u001b[0m\u001b[1;33m)\u001b[0m\u001b[1;33m\u001b[0m\u001b[1;33m\u001b[0m\u001b[0m\n\u001b[0m\u001b[0;32m    291\u001b[0m                 \u001b[1;32mif\u001b[0m \u001b[0misinstance\u001b[0m\u001b[1;33m(\u001b[0m\u001b[0mresults\u001b[0m\u001b[1;33m[\u001b[0m\u001b[0mi\u001b[0m\u001b[1;33m]\u001b[0m\u001b[1;33m,\u001b[0m \u001b[0mABCSeries\u001b[0m\u001b[1;33m)\u001b[0m\u001b[1;33m:\u001b[0m\u001b[1;33m\u001b[0m\u001b[1;33m\u001b[0m\u001b[0m\n\u001b[0;32m    292\u001b[0m                     \u001b[1;31m# If we have a view on v, we need to make a copy because\u001b[0m\u001b[1;33m\u001b[0m\u001b[1;33m\u001b[0m\u001b[1;33m\u001b[0m\u001b[0m\n",
      "\u001b[1;32m<ipython-input-132-259b9aee6603>\u001b[0m in \u001b[0;36m<lambda>\u001b[1;34m(x)\u001b[0m\n\u001b[0;32m      2\u001b[0m \u001b[0mcount\u001b[0m\u001b[1;33m=\u001b[0m\u001b[1;36m0\u001b[0m\u001b[1;33m\u001b[0m\u001b[1;33m\u001b[0m\u001b[0m\n\u001b[0;32m      3\u001b[0m \u001b[1;31m# xtest = xtest.drop(\"Unique Headcount\",axis=1)\u001b[0m\u001b[1;33m\u001b[0m\u001b[1;33m\u001b[0m\u001b[1;33m\u001b[0m\u001b[0m\n\u001b[1;32m----> 4\u001b[1;33m \u001b[0mxtest\u001b[0m\u001b[1;33m[\u001b[0m\u001b[1;34m\"Unique Headcount\"\u001b[0m\u001b[1;33m]\u001b[0m \u001b[1;33m=\u001b[0m \u001b[0mxtest\u001b[0m\u001b[1;33m.\u001b[0m\u001b[0mapply\u001b[0m\u001b[1;33m(\u001b[0m\u001b[1;32mlambda\u001b[0m \u001b[0mx\u001b[0m\u001b[1;33m:\u001b[0m \u001b[0mpredict\u001b[0m\u001b[1;33m(\u001b[0m\u001b[0mx\u001b[0m\u001b[1;33m)\u001b[0m\u001b[1;33m,\u001b[0m\u001b[0maxis\u001b[0m\u001b[1;33m=\u001b[0m\u001b[1;36m1\u001b[0m\u001b[1;33m)\u001b[0m\u001b[1;33m\u001b[0m\u001b[1;33m\u001b[0m\u001b[0m\n\u001b[0m",
      "\u001b[1;32m<ipython-input-131-51a938e6fd89>\u001b[0m in \u001b[0;36mpredict\u001b[1;34m(x)\u001b[0m\n\u001b[0;32m     10\u001b[0m     \u001b[0mx\u001b[0m \u001b[1;33m=\u001b[0m \u001b[0mtrain\u001b[0m\u001b[1;33m[\u001b[0m\u001b[0mx\u001b[0m\u001b[1;33m.\u001b[0m\u001b[0mname\u001b[0m\u001b[1;33m:\u001b[0m\u001b[0mx\u001b[0m\u001b[1;33m.\u001b[0m\u001b[0mname\u001b[0m\u001b[1;33m+\u001b[0m\u001b[1;36m1\u001b[0m\u001b[1;33m]\u001b[0m\u001b[1;33m\u001b[0m\u001b[1;33m\u001b[0m\u001b[0m\n\u001b[0;32m     11\u001b[0m     \u001b[0mprint\u001b[0m\u001b[1;33m(\u001b[0m\u001b[1;34m\"Actual: \"\u001b[0m\u001b[1;33m,\u001b[0m \u001b[0mx\u001b[0m\u001b[1;33m[\u001b[0m\u001b[1;34m\"Category\"\u001b[0m\u001b[1;33m]\u001b[0m\u001b[1;33m,\u001b[0m\u001b[0mx\u001b[0m\u001b[1;33m[\u001b[0m\u001b[1;34m\"Unique Headcount\"\u001b[0m\u001b[1;33m]\u001b[0m\u001b[1;33m)\u001b[0m\u001b[1;33m\u001b[0m\u001b[1;33m\u001b[0m\u001b[0m\n\u001b[1;32m---> 12\u001b[1;33m     \u001b[0mprint\u001b[0m\u001b[1;33m(\u001b[0m\u001b[1;34m\"Predicted: \"\u001b[0m\u001b[1;33m,\u001b[0m\u001b[0mmodel1\u001b[0m\u001b[1;33m.\u001b[0m\u001b[0mpredict\u001b[0m\u001b[1;33m(\u001b[0m\u001b[0mx\u001b[0m\u001b[1;33m)\u001b[0m\u001b[1;33m[\u001b[0m\u001b[1;36m0\u001b[0m\u001b[1;33m]\u001b[0m\u001b[1;33m,\u001b[0m\u001b[0mmodel2\u001b[0m\u001b[1;33m.\u001b[0m\u001b[0mpredict\u001b[0m\u001b[1;33m(\u001b[0m\u001b[0mx\u001b[0m\u001b[1;33m)\u001b[0m\u001b[1;33m[\u001b[0m\u001b[1;36m0\u001b[0m\u001b[1;33m]\u001b[0m\u001b[1;33m,\u001b[0m\u001b[0mmodel3\u001b[0m\u001b[1;33m.\u001b[0m\u001b[0mpredict\u001b[0m\u001b[1;33m(\u001b[0m\u001b[0mx\u001b[0m\u001b[1;33m)\u001b[0m\u001b[1;33m[\u001b[0m\u001b[1;36m0\u001b[0m\u001b[1;33m]\u001b[0m\u001b[1;33m)\u001b[0m\u001b[1;33m\u001b[0m\u001b[1;33m\u001b[0m\u001b[0m\n\u001b[0m\u001b[0;32m     13\u001b[0m     \u001b[0mx\u001b[0m \u001b[1;33m=\u001b[0m \u001b[0mx\u001b[0m\u001b[1;33m.\u001b[0m\u001b[0mdrop\u001b[0m\u001b[1;33m(\u001b[0m\u001b[1;33m[\u001b[0m\u001b[1;34m\"Category\"\u001b[0m\u001b[1;33m,\u001b[0m\u001b[1;34m\"UH\"\u001b[0m\u001b[1;33m,\u001b[0m\u001b[1;34m\"Unique Headcount\"\u001b[0m\u001b[1;33m]\u001b[0m\u001b[1;33m,\u001b[0m\u001b[0maxis\u001b[0m\u001b[1;33m=\u001b[0m\u001b[1;36m1\u001b[0m\u001b[1;33m)\u001b[0m\u001b[1;33m\u001b[0m\u001b[1;33m\u001b[0m\u001b[0m\n\u001b[0;32m     14\u001b[0m     \u001b[1;32mif\u001b[0m \u001b[0mcat\u001b[0m\u001b[1;33m==\u001b[0m\u001b[1;34m'uh<=10'\u001b[0m\u001b[1;33m:\u001b[0m\u001b[1;33m\u001b[0m\u001b[1;33m\u001b[0m\u001b[0m\n",
      "\u001b[1;32mC:\\Users\\Andrea Solomon\\anaconda3\\lib\\site-packages\\sklearn\\ensemble\\_forest.py\u001b[0m in \u001b[0;36mpredict\u001b[1;34m(self, X)\u001b[0m\n\u001b[0;32m    764\u001b[0m         \u001b[0mcheck_is_fitted\u001b[0m\u001b[1;33m(\u001b[0m\u001b[0mself\u001b[0m\u001b[1;33m)\u001b[0m\u001b[1;33m\u001b[0m\u001b[1;33m\u001b[0m\u001b[0m\n\u001b[0;32m    765\u001b[0m         \u001b[1;31m# Check data\u001b[0m\u001b[1;33m\u001b[0m\u001b[1;33m\u001b[0m\u001b[1;33m\u001b[0m\u001b[0m\n\u001b[1;32m--> 766\u001b[1;33m         \u001b[0mX\u001b[0m \u001b[1;33m=\u001b[0m \u001b[0mself\u001b[0m\u001b[1;33m.\u001b[0m\u001b[0m_validate_X_predict\u001b[0m\u001b[1;33m(\u001b[0m\u001b[0mX\u001b[0m\u001b[1;33m)\u001b[0m\u001b[1;33m\u001b[0m\u001b[1;33m\u001b[0m\u001b[0m\n\u001b[0m\u001b[0;32m    767\u001b[0m \u001b[1;33m\u001b[0m\u001b[0m\n\u001b[0;32m    768\u001b[0m         \u001b[1;31m# Assign chunk of trees to jobs\u001b[0m\u001b[1;33m\u001b[0m\u001b[1;33m\u001b[0m\u001b[1;33m\u001b[0m\u001b[0m\n",
      "\u001b[1;32mC:\\Users\\Andrea Solomon\\anaconda3\\lib\\site-packages\\sklearn\\ensemble\\_forest.py\u001b[0m in \u001b[0;36m_validate_X_predict\u001b[1;34m(self, X)\u001b[0m\n\u001b[0;32m    410\u001b[0m         \u001b[0mcheck_is_fitted\u001b[0m\u001b[1;33m(\u001b[0m\u001b[0mself\u001b[0m\u001b[1;33m)\u001b[0m\u001b[1;33m\u001b[0m\u001b[1;33m\u001b[0m\u001b[0m\n\u001b[0;32m    411\u001b[0m \u001b[1;33m\u001b[0m\u001b[0m\n\u001b[1;32m--> 412\u001b[1;33m         \u001b[1;32mreturn\u001b[0m \u001b[0mself\u001b[0m\u001b[1;33m.\u001b[0m\u001b[0mestimators_\u001b[0m\u001b[1;33m[\u001b[0m\u001b[1;36m0\u001b[0m\u001b[1;33m]\u001b[0m\u001b[1;33m.\u001b[0m\u001b[0m_validate_X_predict\u001b[0m\u001b[1;33m(\u001b[0m\u001b[0mX\u001b[0m\u001b[1;33m,\u001b[0m \u001b[0mcheck_input\u001b[0m\u001b[1;33m=\u001b[0m\u001b[1;32mTrue\u001b[0m\u001b[1;33m)\u001b[0m\u001b[1;33m\u001b[0m\u001b[1;33m\u001b[0m\u001b[0m\n\u001b[0m\u001b[0;32m    413\u001b[0m \u001b[1;33m\u001b[0m\u001b[0m\n\u001b[0;32m    414\u001b[0m     \u001b[1;33m@\u001b[0m\u001b[0mproperty\u001b[0m\u001b[1;33m\u001b[0m\u001b[1;33m\u001b[0m\u001b[0m\n",
      "\u001b[1;32mC:\\Users\\Andrea Solomon\\anaconda3\\lib\\site-packages\\sklearn\\tree\\_classes.py\u001b[0m in \u001b[0;36m_validate_X_predict\u001b[1;34m(self, X, check_input)\u001b[0m\n\u001b[0;32m    378\u001b[0m         \u001b[1;34m\"\"\"Validate X whenever one tries to predict, apply, predict_proba\"\"\"\u001b[0m\u001b[1;33m\u001b[0m\u001b[1;33m\u001b[0m\u001b[0m\n\u001b[0;32m    379\u001b[0m         \u001b[1;32mif\u001b[0m \u001b[0mcheck_input\u001b[0m\u001b[1;33m:\u001b[0m\u001b[1;33m\u001b[0m\u001b[1;33m\u001b[0m\u001b[0m\n\u001b[1;32m--> 380\u001b[1;33m             \u001b[0mX\u001b[0m \u001b[1;33m=\u001b[0m \u001b[0mcheck_array\u001b[0m\u001b[1;33m(\u001b[0m\u001b[0mX\u001b[0m\u001b[1;33m,\u001b[0m \u001b[0mdtype\u001b[0m\u001b[1;33m=\u001b[0m\u001b[0mDTYPE\u001b[0m\u001b[1;33m,\u001b[0m \u001b[0maccept_sparse\u001b[0m\u001b[1;33m=\u001b[0m\u001b[1;34m\"csr\"\u001b[0m\u001b[1;33m)\u001b[0m\u001b[1;33m\u001b[0m\u001b[1;33m\u001b[0m\u001b[0m\n\u001b[0m\u001b[0;32m    381\u001b[0m             if issparse(X) and (X.indices.dtype != np.intc or\n\u001b[0;32m    382\u001b[0m                                 X.indptr.dtype != np.intc):\n",
      "\u001b[1;32mC:\\Users\\Andrea Solomon\\anaconda3\\lib\\site-packages\\sklearn\\utils\\validation.py\u001b[0m in \u001b[0;36mcheck_array\u001b[1;34m(array, accept_sparse, accept_large_sparse, dtype, order, copy, force_all_finite, ensure_2d, allow_nd, ensure_min_samples, ensure_min_features, warn_on_dtype, estimator)\u001b[0m\n\u001b[0;32m    529\u001b[0m                     \u001b[0marray\u001b[0m \u001b[1;33m=\u001b[0m \u001b[0marray\u001b[0m\u001b[1;33m.\u001b[0m\u001b[0mastype\u001b[0m\u001b[1;33m(\u001b[0m\u001b[0mdtype\u001b[0m\u001b[1;33m,\u001b[0m \u001b[0mcasting\u001b[0m\u001b[1;33m=\u001b[0m\u001b[1;34m\"unsafe\"\u001b[0m\u001b[1;33m,\u001b[0m \u001b[0mcopy\u001b[0m\u001b[1;33m=\u001b[0m\u001b[1;32mFalse\u001b[0m\u001b[1;33m)\u001b[0m\u001b[1;33m\u001b[0m\u001b[1;33m\u001b[0m\u001b[0m\n\u001b[0;32m    530\u001b[0m                 \u001b[1;32melse\u001b[0m\u001b[1;33m:\u001b[0m\u001b[1;33m\u001b[0m\u001b[1;33m\u001b[0m\u001b[0m\n\u001b[1;32m--> 531\u001b[1;33m                     \u001b[0marray\u001b[0m \u001b[1;33m=\u001b[0m \u001b[0mnp\u001b[0m\u001b[1;33m.\u001b[0m\u001b[0masarray\u001b[0m\u001b[1;33m(\u001b[0m\u001b[0marray\u001b[0m\u001b[1;33m,\u001b[0m \u001b[0morder\u001b[0m\u001b[1;33m=\u001b[0m\u001b[0morder\u001b[0m\u001b[1;33m,\u001b[0m \u001b[0mdtype\u001b[0m\u001b[1;33m=\u001b[0m\u001b[0mdtype\u001b[0m\u001b[1;33m)\u001b[0m\u001b[1;33m\u001b[0m\u001b[1;33m\u001b[0m\u001b[0m\n\u001b[0m\u001b[0;32m    532\u001b[0m             \u001b[1;32mexcept\u001b[0m \u001b[0mComplexWarning\u001b[0m\u001b[1;33m:\u001b[0m\u001b[1;33m\u001b[0m\u001b[1;33m\u001b[0m\u001b[0m\n\u001b[0;32m    533\u001b[0m                 raise ValueError(\"Complex data not supported\\n\"\n",
      "\u001b[1;32mC:\\Users\\Andrea Solomon\\anaconda3\\lib\\site-packages\\numpy\\core\\_asarray.py\u001b[0m in \u001b[0;36masarray\u001b[1;34m(a, dtype, order)\u001b[0m\n\u001b[0;32m     83\u001b[0m \u001b[1;33m\u001b[0m\u001b[0m\n\u001b[0;32m     84\u001b[0m     \"\"\"\n\u001b[1;32m---> 85\u001b[1;33m     \u001b[1;32mreturn\u001b[0m \u001b[0marray\u001b[0m\u001b[1;33m(\u001b[0m\u001b[0ma\u001b[0m\u001b[1;33m,\u001b[0m \u001b[0mdtype\u001b[0m\u001b[1;33m,\u001b[0m \u001b[0mcopy\u001b[0m\u001b[1;33m=\u001b[0m\u001b[1;32mFalse\u001b[0m\u001b[1;33m,\u001b[0m \u001b[0morder\u001b[0m\u001b[1;33m=\u001b[0m\u001b[0morder\u001b[0m\u001b[1;33m)\u001b[0m\u001b[1;33m\u001b[0m\u001b[1;33m\u001b[0m\u001b[0m\n\u001b[0m\u001b[0;32m     86\u001b[0m \u001b[1;33m\u001b[0m\u001b[0m\n\u001b[0;32m     87\u001b[0m \u001b[1;33m\u001b[0m\u001b[0m\n",
      "\u001b[1;32mC:\\Users\\Andrea Solomon\\anaconda3\\lib\\site-packages\\pandas\\core\\generic.py\u001b[0m in \u001b[0;36m__array__\u001b[1;34m(self, dtype)\u001b[0m\n\u001b[0;32m   1896\u001b[0m \u001b[1;33m\u001b[0m\u001b[0m\n\u001b[0;32m   1897\u001b[0m     \u001b[1;32mdef\u001b[0m \u001b[0m__array__\u001b[0m\u001b[1;33m(\u001b[0m\u001b[0mself\u001b[0m\u001b[1;33m,\u001b[0m \u001b[0mdtype\u001b[0m\u001b[1;33m=\u001b[0m\u001b[1;32mNone\u001b[0m\u001b[1;33m)\u001b[0m \u001b[1;33m->\u001b[0m \u001b[0mnp\u001b[0m\u001b[1;33m.\u001b[0m\u001b[0mndarray\u001b[0m\u001b[1;33m:\u001b[0m\u001b[1;33m\u001b[0m\u001b[1;33m\u001b[0m\u001b[0m\n\u001b[1;32m-> 1898\u001b[1;33m         \u001b[1;32mreturn\u001b[0m \u001b[0mnp\u001b[0m\u001b[1;33m.\u001b[0m\u001b[0masarray\u001b[0m\u001b[1;33m(\u001b[0m\u001b[0mself\u001b[0m\u001b[1;33m.\u001b[0m\u001b[0m_values\u001b[0m\u001b[1;33m,\u001b[0m \u001b[0mdtype\u001b[0m\u001b[1;33m=\u001b[0m\u001b[0mdtype\u001b[0m\u001b[1;33m)\u001b[0m\u001b[1;33m\u001b[0m\u001b[1;33m\u001b[0m\u001b[0m\n\u001b[0m\u001b[0;32m   1899\u001b[0m \u001b[1;33m\u001b[0m\u001b[0m\n\u001b[0;32m   1900\u001b[0m     def __array_wrap__(\n",
      "\u001b[1;32mC:\\Users\\Andrea Solomon\\anaconda3\\lib\\site-packages\\numpy\\core\\_asarray.py\u001b[0m in \u001b[0;36masarray\u001b[1;34m(a, dtype, order)\u001b[0m\n\u001b[0;32m     83\u001b[0m \u001b[1;33m\u001b[0m\u001b[0m\n\u001b[0;32m     84\u001b[0m     \"\"\"\n\u001b[1;32m---> 85\u001b[1;33m     \u001b[1;32mreturn\u001b[0m \u001b[0marray\u001b[0m\u001b[1;33m(\u001b[0m\u001b[0ma\u001b[0m\u001b[1;33m,\u001b[0m \u001b[0mdtype\u001b[0m\u001b[1;33m,\u001b[0m \u001b[0mcopy\u001b[0m\u001b[1;33m=\u001b[0m\u001b[1;32mFalse\u001b[0m\u001b[1;33m,\u001b[0m \u001b[0morder\u001b[0m\u001b[1;33m=\u001b[0m\u001b[0morder\u001b[0m\u001b[1;33m)\u001b[0m\u001b[1;33m\u001b[0m\u001b[1;33m\u001b[0m\u001b[0m\n\u001b[0m\u001b[0;32m     86\u001b[0m \u001b[1;33m\u001b[0m\u001b[0m\n\u001b[0;32m     87\u001b[0m \u001b[1;33m\u001b[0m\u001b[0m\n",
      "\u001b[1;31mValueError\u001b[0m: could not convert string to float: 'uh<=10'"
     ]
    }
   ],
   "source": [
    "xtest[\"Category\"] = rfy_pred\n",
    "count=0\n",
    "# xtest = xtest.drop(\"Unique Headcount\",axis=1)\n",
    "xtest[\"Unique Headcount\"] = xtest.apply(lambda x: predict(x),axis=1)"
   ]
  },
  {
   "cell_type": "code",
   "execution_count": 120,
   "metadata": {},
   "outputs": [
    {
     "name": "stdout",
     "output_type": "stream",
     "text": [
      "5.764629851795092\n"
     ]
    }
   ],
   "source": [
    "mse = mean_squared_error(xtest[\"Unique Headcount\"],ytest[\"Unique Headcount\"])\n",
    "rmse = math.sqrt(mse)\n",
    "print(rmse)"
   ]
  },
  {
   "cell_type": "code",
   "execution_count": 121,
   "metadata": {},
   "outputs": [
    {
     "data": {
      "text/plain": [
       "<matplotlib.axes._subplots.AxesSubplot at 0x1d409d22a88>"
      ]
     },
     "execution_count": 121,
     "metadata": {},
     "output_type": "execute_result"
    },
    {
     "data": {
      "image/png": "[encoded data removed]",
      "text/plain": [
       "<Figure size 432x288 with 1 Axes>"
      ]
     },
     "metadata": {
      "needs_background": "light"
     },
     "output_type": "display_data"
    }
   ],
   "source": [
    "sns.scatterplot(xtest[\"Unique Headcount\"],ytest[\"Unique Headcount\"])"
   ]
  },
  {
   "cell_type": "code",
   "execution_count": 122,
   "metadata": {},
   "outputs": [
    {
     "name": "stdout",
     "output_type": "stream",
     "text": [
      "Predictions: \n"
     ]
    },
    {
     "data": {
      "text/plain": [
       "count    21675.000000\n",
       "mean         8.061546\n",
       "std         16.983984\n",
       "min          1.000000\n",
       "25%          1.370000\n",
       "50%          2.700000\n",
       "75%          6.270000\n",
       "max        365.406667\n",
       "Name: Unique Headcount, dtype: float64"
      ]
     },
     "execution_count": 122,
     "metadata": {},
     "output_type": "execute_result"
    }
   ],
   "source": [
    "print(\"Predictions: \")\n",
    "xtest[\"Unique Headcount\"].describe()"
   ]
  },
  {
   "cell_type": "code",
   "execution_count": 123,
   "metadata": {},
   "outputs": [
    {
     "name": "stdout",
     "output_type": "stream",
     "text": [
      "Ytest: \n"
     ]
    },
    {
     "data": {
      "text/plain": [
       "count    21675.000000\n",
       "mean         8.152111\n",
       "std         16.972862\n",
       "min          1.000000\n",
       "25%          1.000000\n",
       "50%          2.000000\n",
       "75%          7.000000\n",
       "max        387.000000\n",
       "Name: Unique Headcount, dtype: float64"
      ]
     },
     "execution_count": 123,
     "metadata": {},
     "output_type": "execute_result"
    }
   ],
   "source": [
    "print(\"Ytest: \")\n",
    "ytest[\"Unique Headcount\"].describe()"
   ]
  },
  {
   "cell_type": "markdown",
   "metadata": {},
   "source": [
    "## Analysis:\n",
    "- The variability of the actual vs predicted plot is much less than the other plots, indicating this is a good fit\n",
    "- Also the general statistics of the predictions and ytest match, indicating it is a good fit"
   ]
  },
  {
   "cell_type": "markdown",
   "metadata": {},
   "source": [
    "# From this we understand that\n",
    "- RF classifier performed best with PCA\n",
    "- So it would be best to use rfclassifier for predicting class and the rf regressor models to predict the values\n",
    "- We used this to submit our predictions"
   ]
  },
  {
   "cell_type": "code",
   "execution_count": 61,
   "metadata": {},
   "outputs": [
    {
     "name": "stderr",
     "output_type": "stream",
     "text": [
      "C:\\Users\\Andrea Solomon\\anaconda3\\lib\\site-packages\\ipykernel_launcher.py:1: SettingWithCopyWarning: \n",
      "A value is trying to be set on a copy of a slice from a DataFrame.\n",
      "Try using .loc[row_indexer,col_indexer] = value instead\n",
      "\n",
      "See the caveats in the documentation: https://pandas.pydata.org/pandas-docs/stable/user_guide/indexing.html#returning-a-view-versus-a-copy\n",
      "  \"\"\"Entry point for launching an IPython kernel.\n"
     ]
    }
   ],
   "source": [
    "xtest[\"Category\"] = ytest[\"Category\"]"
   ]
  },
  {
   "cell_type": "code",
   "execution_count": 62,
   "metadata": {},
   "outputs": [
    {
     "name": "stdout",
     "output_type": "stream",
     "text": [
      "22000\n",
      "23000\n",
      "24000\n",
      "25000\n",
      "26000\n",
      "27000\n",
      "28000\n",
      "29000\n",
      "30000\n",
      "31000\n",
      "32000\n",
      "33000\n",
      "34000\n",
      "35000\n",
      "36000\n",
      "37000\n",
      "38000\n",
      "39000\n",
      "40000\n",
      "41000\n",
      "42000\n",
      "43000\n"
     ]
    },
    {
     "name": "stderr",
     "output_type": "stream",
     "text": [
      "C:\\Users\\Andrea Solomon\\anaconda3\\lib\\site-packages\\ipykernel_launcher.py:1: SettingWithCopyWarning: \n",
      "A value is trying to be set on a copy of a slice from a DataFrame.\n",
      "Try using .loc[row_indexer,col_indexer] = value instead\n",
      "\n",
      "See the caveats in the documentation: https://pandas.pydata.org/pandas-docs/stable/user_guide/indexing.html#returning-a-view-versus-a-copy\n",
      "  \"\"\"Entry point for launching an IPython kernel.\n"
     ]
    }
   ],
   "source": [
    "xtest[\"Unique Headcount\"] = xtest.apply(lambda x: predict(x),axis=1)"
   ]
  },
  {
   "cell_type": "code",
   "execution_count": 63,
   "metadata": {},
   "outputs": [
    {
     "name": "stdout",
     "output_type": "stream",
     "text": [
      "2.794931744238707\n"
     ]
    }
   ],
   "source": [
    "mse = mean_squared_error(xtest[\"Unique Headcount\"],ytest[\"Unique Headcount\"])\n",
    "rmse = math.sqrt(mse)\n",
    "print(rmse)"
   ]
  },
  {
   "cell_type": "code",
   "execution_count": 64,
   "metadata": {},
   "outputs": [
    {
     "name": "stdout",
     "output_type": "stream",
     "text": [
      "Predictions: \n"
     ]
    },
    {
     "data": {
      "text/plain": [
       "count    21675.000000\n",
       "mean         8.390700\n",
       "std         16.808821\n",
       "min          1.000000\n",
       "25%          1.390000\n",
       "50%          2.730000\n",
       "75%          6.700000\n",
       "max        352.940000\n",
       "Name: Unique Headcount, dtype: float64"
      ]
     },
     "execution_count": 64,
     "metadata": {},
     "output_type": "execute_result"
    }
   ],
   "source": [
    "print(\"Predictions: \")\n",
    "xtest[\"Unique Headcount\"].describe()"
   ]
  },
  {
   "cell_type": "code",
   "execution_count": 65,
   "metadata": {},
   "outputs": [
    {
     "name": "stdout",
     "output_type": "stream",
     "text": [
      "Ytest: \n"
     ]
    },
    {
     "data": {
      "text/plain": [
       "count    21675.000000\n",
       "mean         8.329689\n",
       "std         17.036984\n",
       "min          1.000000\n",
       "25%          1.000000\n",
       "50%          3.000000\n",
       "75%          8.000000\n",
       "max        368.000000\n",
       "Name: Unique Headcount, dtype: float64"
      ]
     },
     "execution_count": 65,
     "metadata": {},
     "output_type": "execute_result"
    }
   ],
   "source": [
    "print(\"Ytest: \")\n",
    "ytest[\"Unique Headcount\"].describe()"
   ]
  },
  {
   "cell_type": "code",
   "execution_count": 66,
   "metadata": {},
   "outputs": [
    {
     "data": {
      "text/plain": [
       "<matplotlib.axes._subplots.AxesSubplot at 0x1d45ced8fc8>"
      ]
     },
     "execution_count": 66,
     "metadata": {},
     "output_type": "execute_result"
    },
    {
     "data": {
      "image/png": "[encoded data removed]",
      "text/plain": [
       "<Figure size 432x288 with 1 Axes>"
      ]
     },
     "metadata": {
      "needs_background": "light"
     },
     "output_type": "display_data"
    }
   ],
   "source": [
    "sns.scatterplot(ytest[\"Unique Headcount\"],xtest[\"Unique Headcount\"])"
   ]
  },
  {
   "cell_type": "code",
   "execution_count": null,
   "metadata": {},
   "outputs": [],
   "source": []
  }
 ],
 "metadata": {
  "kernelspec": {
   "display_name": "Python 3",
   "language": "python",
   "name": "python3"
  },
  "language_info": {
   "codemirror_mode": {
    "name": "ipython",
    "version": 3
   },
   "file_extension": ".py",
   "mimetype": "text/x-python",
   "name": "python",
   "nbconvert_exporter": "python",
   "pygments_lexer": "ipython3",
   "version": "3.7.6"
  }
 },
 "nbformat": 4,
 "nbformat_minor": 4
}
